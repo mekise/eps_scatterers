{
 "cells": [
  {
   "cell_type": "code",
   "execution_count": 1,
   "metadata": {},
   "outputs": [],
   "source": [
    "using LinearAlgebra\n",
    "using SpecialFunctions\n",
    "using Random\n",
    "\n",
    "include(\"Misc.jl\");\n",
    "include(\"GreensFunction.jl\");\n",
    "include(\"InteractionMatrix.jl\");\n",
    "include(\"Fields.jl\");"
   ]
  },
  {
   "cell_type": "code",
   "execution_count": 2,
   "metadata": {},
   "outputs": [],
   "source": [
    "ω = 1.\n",
    "J = Stdd(2);\n",
    "\n",
    "a = [1., 2., 3.];\n",
    "b = [2., 3., 2.];\n",
    "\n",
    "scattpos = [[1. 2. 3.]\n",
    "            [2. 3. 4.]\n",
    "            [3. 3. 3.]\n",
    "            [2. 1. 3.]];\n",
    "\n",
    "alphas = [(1. + 2im)\n",
    "          (1. - 2im)\n",
    "          (2. + 1im)\n",
    "          (1. - 3im)];\n",
    "\n",
    "ϕinput = [(1. +1im), 2., 3., 2.];"
   ]
  },
  {
   "cell_type": "code",
   "execution_count": 3,
   "metadata": {},
   "outputs": [
    {
     "data": {
      "text/plain": [
       "0.029765298082187905 + 0.034998357427529284im"
      ]
     },
     "metadata": {},
     "output_type": "display_data"
    }
   ],
   "source": [
    "greensfun(a, b, ω, J)"
   ]
  },
  {
   "cell_type": "code",
   "execution_count": 4,
   "metadata": {},
   "outputs": [
    {
     "data": {
      "text/plain": [
       "4×4 Matrix{ComplexF64}:\n",
       "        0.2-0.4im        -0.0297653-0.0349984im  …  -0.0427788-0.0365549im\n",
       " -0.0297653-0.0349984im         0.2+0.4im           -0.0155681-0.0320023im\n",
       " -0.0155681-0.0320023im  -0.0427788-0.0365549im     -0.0155681-0.0320023im\n",
       " -0.0427788-0.0365549im  -0.0155681-0.0320023im            0.1+0.3im"
      ]
     },
     "metadata": {},
     "output_type": "display_data"
    }
   ],
   "source": [
    "intmatrix(scattpos, alphas, ω, J)"
   ]
  },
  {
   "cell_type": "code",
   "execution_count": 5,
   "metadata": {},
   "outputs": [
    {
     "data": {
      "text/plain": [
       "4-element Vector{ComplexF64}:\n",
       " -0.7327048551977067 + 4.3035785029002405im\n",
       "   3.250180181319421 - 3.920867368460187im\n",
       "   6.705086700467963 + 3.3967039363379468im\n",
       "  3.3863462480987954 - 5.481543067854424im"
      ]
     },
     "metadata": {},
     "output_type": "display_data"
    }
   ],
   "source": [
    "incfield(ϕinput, scattpos, alphas, ω, J)"
   ]
  },
  {
   "cell_type": "code",
   "execution_count": null,
   "metadata": {},
   "outputs": [],
   "source": []
  }
 ],
 "metadata": {
  "kernelspec": {
   "display_name": "Julia 1.7.3",
   "language": "julia",
   "name": "julia-1.7"
  },
  "language_info": {
   "file_extension": ".jl",
   "mimetype": "application/julia",
   "name": "julia",
   "version": "1.7.3"
  },
  "orig_nbformat": 4
 },
 "nbformat": 4,
 "nbformat_minor": 2
}
