{
 "cells": [
  {
   "cell_type": "code",
   "execution_count": 1,
   "metadata": {},
   "outputs": [],
   "source": [
    "using LinearAlgebra\n",
    "using SpecialFunctions\n",
    "using Random\n",
    "using ForwardDiff\n",
    "\n",
    "include(\"Misc.jl\");\n",
    "include(\"GreensFunction.jl\");\n",
    "include(\"InteractionMatrix.jl\");\n",
    "include(\"Fields.jl\");"
   ]
  },
  {
   "cell_type": "code",
   "execution_count": 2,
   "metadata": {},
   "outputs": [],
   "source": [
    "ω = 1.\n",
    "J = Stdd(2);\n",
    "\n",
    "scattpos = [[1. 2. 3.]\n",
    "            [2. 3. 4.]\n",
    "            [3. 3. 3.]\n",
    "            [2. 1. 3.]];\n",
    "\n",
    "alphas = [(1. + 2im)\n",
    "          (1. - 2im)\n",
    "          (2. + 1im)\n",
    "          (1. - 3im)];\n",
    "\n",
    "ϕinput = [(1. +1im), 2., 3., 2.];\n",
    "\n",
    "x = [1., 1., 0.];"
   ]
  },
  {
   "cell_type": "code",
   "execution_count": 3,
   "metadata": {},
   "outputs": [
    {
     "data": {
      "text/plain": [
       "0.19571592372976976 - 0.4531329137867537im"
      ]
     },
     "metadata": {},
     "output_type": "display_data"
    }
   ],
   "source": [
    "totfield(x, ϕinput, scattpos, alphas, ω, J)"
   ]
  },
  {
   "cell_type": "code",
   "execution_count": 4,
   "metadata": {},
   "outputs": [
    {
     "data": {
      "text/plain": [
       "0.19571592372976976 - 0.4531329137867537im"
      ]
     },
     "metadata": {},
     "output_type": "display_data"
    }
   ],
   "source": [
    "f = x -> totfield(x, ϕinput, scattpos, alphas, ω, J)\n",
    "f(x)"
   ]
  },
  {
   "cell_type": "code",
   "execution_count": 5,
   "metadata": {},
   "outputs": [
    {
     "ename": "DimensionMismatch",
     "evalue": "DimensionMismatch(\"gradient(f, x) expects that f(x) is a real number. Perhaps you meant jacobian(f, x)?\")",
     "output_type": "error",
     "traceback": [
      "DimensionMismatch(\"gradient(f, x) expects that f(x) is a real number. Perhaps you meant jacobian(f, x)?\")\n",
      "\n",
      "Stacktrace:\n",
      "  [1] vector_mode_gradient(f::var\"#13#14\", x::Vector{Float64}, cfg::ForwardDiff.GradientConfig{ForwardDiff.Tag{var\"#13#14\", Float64}, Float64, 3, Vector{ForwardDiff.Dual{ForwardDiff.Tag{var\"#13#14\", Float64}, Float64, 3}}})\n",
      "    @ ForwardDiff C:\\Users\\mekise\\.julia\\packages\\ForwardDiff\\wAaVJ\\src\\gradient.jl:107\n",
      "  [2] gradient(f::Function, x::Vector{Float64}, cfg::ForwardDiff.GradientConfig{ForwardDiff.Tag{var\"#13#14\", Float64}, Float64, 3, Vector{ForwardDiff.Dual{ForwardDiff.Tag{var\"#13#14\", Float64}, Float64, 3}}}, ::Val{true})\n",
      "    @ ForwardDiff C:\\Users\\mekise\\.julia\\packages\\ForwardDiff\\wAaVJ\\src\\gradient.jl:19\n",
      "  [3] gradient(f::Function, x::Vector{Float64}, cfg::ForwardDiff.GradientConfig{ForwardDiff.Tag{var\"#13#14\", Float64}, Float64, 3, Vector{ForwardDiff.Dual{ForwardDiff.Tag{var\"#13#14\", Float64}, Float64, 3}}}) (repeats 2 times)\n",
      "    @ ForwardDiff C:\\Users\\mekise\\.julia\\packages\\ForwardDiff\\wAaVJ\\src\\gradient.jl:17\n",
      "  [4] (::var\"#15#16\")(x::Vector{Float64})\n",
      "    @ Main c:\\Users\\mekise\\Google Drive\\code\\git\\ScatterersDDA\\src\\test.ipynb:1\n",
      "  [5] top-level scope\n",
      "    @ c:\\Users\\mekise\\Google Drive\\code\\git\\ScatterersDDA\\src\\test.ipynb:2\n",
      "  [6] eval\n",
      "    @ .\\boot.jl:373 [inlined]\n",
      "  [7] include_string(mapexpr::typeof(REPL.softscope), mod::Module, code::String, filename::String)\n",
      "    @ Base .\\loading.jl:1196\n",
      "  [8] #invokelatest#2\n",
      "    @ .\\essentials.jl:716 [inlined]\n",
      "  [9] invokelatest\n",
      "    @ .\\essentials.jl:714 [inlined]\n",
      " [10] (::VSCodeServer.var\"#164#165\"{VSCodeServer.NotebookRunCellArguments, String})()\n",
      "    @ VSCodeServer c:\\Users\\mekise\\.vscode\\extensions\\julialang.language-julia-1.6.24\\scripts\\packages\\VSCodeServer\\src\\serve_notebook.jl:19\n",
      " [11] withpath(f::VSCodeServer.var\"#164#165\"{VSCodeServer.NotebookRunCellArguments, String}, path::String)\n",
      "    @ VSCodeServer c:\\Users\\mekise\\.vscode\\extensions\\julialang.language-julia-1.6.24\\scripts\\packages\\VSCodeServer\\src\\repl.jl:184\n",
      " [12] notebook_runcell_request(conn::VSCodeServer.JSONRPC.JSONRPCEndpoint{Base.PipeEndpoint, Base.PipeEndpoint}, params::VSCodeServer.NotebookRunCellArguments)\n",
      "    @ VSCodeServer c:\\Users\\mekise\\.vscode\\extensions\\julialang.language-julia-1.6.24\\scripts\\packages\\VSCodeServer\\src\\serve_notebook.jl:13\n",
      " [13] dispatch_msg(x::VSCodeServer.JSONRPC.JSONRPCEndpoint{Base.PipeEndpoint, Base.PipeEndpoint}, dispatcher::VSCodeServer.JSONRPC.MsgDispatcher, msg::Dict{String, Any})\n",
      "    @ VSCodeServer.JSONRPC c:\\Users\\mekise\\.vscode\\extensions\\julialang.language-julia-1.6.24\\scripts\\packages\\JSONRPC\\src\\typed.jl:67\n",
      " [14] serve_notebook(pipename::String, outputchannel_logger::Base.CoreLogging.SimpleLogger; crashreporting_pipename::String)\n",
      "    @ VSCodeServer c:\\Users\\mekise\\.vscode\\extensions\\julialang.language-julia-1.6.24\\scripts\\packages\\VSCodeServer\\src\\serve_notebook.jl:136\n",
      " [15] top-level scope\n",
      "    @ c:\\Users\\mekise\\.vscode\\extensions\\julialang.language-julia-1.6.24\\scripts\\notebook\\notebook.jl:32\n",
      " [16] include(mod::Module, _path::String)\n",
      "    @ Base .\\Base.jl:418\n",
      " [17] exec_options(opts::Base.JLOptions)\n",
      "    @ Base .\\client.jl:292\n",
      " [18] _start()\n",
      "    @ Base .\\client.jl:495"
     ]
    }
   ],
   "source": [
    "g = x -> ForwardDiff.gradient(f, x)\n",
    "g(x)"
   ]
  },
  {
   "cell_type": "code",
   "execution_count": null,
   "metadata": {},
   "outputs": [],
   "source": []
  }
 ],
 "metadata": {
  "kernelspec": {
   "display_name": "Julia 1.7.3",
   "language": "julia",
   "name": "julia-1.7"
  },
  "language_info": {
   "file_extension": ".jl",
   "mimetype": "application/julia",
   "name": "julia",
   "version": "1.7.3"
  },
  "orig_nbformat": 4
 },
 "nbformat": 4,
 "nbformat_minor": 2
}
