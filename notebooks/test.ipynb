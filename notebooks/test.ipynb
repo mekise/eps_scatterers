{
 "cells": [
  {
   "cell_type": "code",
   "execution_count": 24,
   "metadata": {},
   "outputs": [
    {
     "data": {
      "text/plain": [
       "powerout (generic function with 1 method)"
      ]
     },
     "execution_count": 24,
     "metadata": {},
     "output_type": "execute_result"
    }
   ],
   "source": [
    "using LinearAlgebra\n",
    "using SpecialFunctions\n",
    "using Random\n",
    "using ForwardDiff\n",
    "using MultiQuad\n",
    "\n",
    "include(\"Misc.jl\");\n",
    "include(\"GreensFunction.jl\");\n",
    "include(\"InteractionMatrix.jl\");\n",
    "include(\"Fields.jl\");\n",
    "include(\"ComplexGradient.jl\")\n",
    "include(\"Power.jl\")"
   ]
  },
  {
   "cell_type": "code",
   "execution_count": 25,
   "metadata": {},
   "outputs": [],
   "source": [
    "ω = 1.\n",
    "J = Stdd(2);\n",
    "\n",
    "scattpos = [[1. 2. 3.]\n",
    "            [2. 3. 4.]\n",
    "            [3. 3. 3.]\n",
    "            [2. 1. 3.]];\n",
    "\n",
    "alphas = [(1. + 2im)\n",
    "          (1. - 2im)\n",
    "          (2. + 1im)\n",
    "          (1. - 3im)];\n",
    "\n",
    "ϕinput = [(1. +1im), 2., 3., 2.];\n",
    "\n",
    "x = [1., 1., 0.];"
   ]
  },
  {
   "cell_type": "code",
   "execution_count": 26,
   "metadata": {},
   "outputs": [
    {
     "data": {
      "text/plain": [
       "-0.008161290384855783"
      ]
     },
     "execution_count": 26,
     "metadata": {},
     "output_type": "execute_result"
    }
   ],
   "source": [
    "f(ϕ, θ) = integrand([1., θ, ϕ], ϕinput, scattpos, alphas, ω, J)[1]\n",
    "f(2, 6)"
   ]
  },
  {
   "cell_type": "code",
   "execution_count": 27,
   "metadata": {},
   "outputs": [
    {
     "data": {
      "text/plain": [
       "(-5.546590904080472, 8.253120983210979e-8)"
      ]
     },
     "execution_count": 27,
     "metadata": {},
     "output_type": "execute_result"
    }
   ],
   "source": [
    "powerout(3, ϕinput, scattpos, alphas, ω, J::Stdd; normalized=false, imagshift=1E-12)"
   ]
  },
  {
   "cell_type": "code",
   "execution_count": 28,
   "metadata": {},
   "outputs": [
    {
     "data": {
      "text/plain": [
       "(-1.6630709713999716, 2.475236003646746e-8)"
      ]
     },
     "execution_count": 28,
     "metadata": {},
     "output_type": "execute_result"
    }
   ],
   "source": [
    "powerout(2, ϕinput, scattpos, alphas, ω, J::Stdd; normalized=false, imagshift=1E-12)"
   ]
  },
  {
   "cell_type": "code",
   "execution_count": null,
   "metadata": {},
   "outputs": [],
   "source": []
  }
 ],
 "metadata": {
  "kernelspec": {
   "display_name": "Julia 1.7.2",
   "language": "julia",
   "name": "julia-1.7"
  },
  "language_info": {
   "file_extension": ".jl",
   "mimetype": "application/julia",
   "name": "julia",
   "version": "1.7.3"
  },
  "orig_nbformat": 4
 },
 "nbformat": 4,
 "nbformat_minor": 2
}
