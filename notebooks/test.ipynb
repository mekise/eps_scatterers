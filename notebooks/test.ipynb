{
 "cells": [
  {
   "cell_type": "code",
   "execution_count": 1,
   "metadata": {},
   "outputs": [],
   "source": [
    "include(\"../src/ScatterersDDA.jl\")\n",
    "using .ScatterersDDA\n",
    "using LinearAlgebra\n",
    "using AbstractAlgebra\n",
    "using Polynomials\n",
    "using SpecialFunctions\n",
    "using Random\n",
    "using ForwardDiff\n",
    "using Plots\n",
    "using Cubature\n",
    "using ZChop\n",
    "using NLsolve\n",
    "using Roots\n",
    "using LineSearches\n",
    "using Symbolics\n",
    "using Combinatorics"
   ]
  },
  {
   "cell_type": "markdown",
   "metadata": {},
   "source": [
    "### Test cofactors"
   ]
  },
  {
   "cell_type": "code",
   "execution_count": 15,
   "metadata": {},
   "outputs": [
    {
     "data": {
      "text/plain": [
       "3-element Vector{Vector{Int64}}:\n",
       " [2, 1, 3]\n",
       " [3, 2, 1]\n",
       " [1, 3, 2]"
      ]
     },
     "metadata": {},
     "output_type": "display_data"
    }
   ],
   "source": [
    "perms = permsingleinversion(3)\n",
    "[perms[:,i] for i in axes(perms, 2)]"
   ]
  },
  {
   "cell_type": "code",
   "execution_count": 2,
   "metadata": {},
   "outputs": [
    {
     "data": {
      "text/plain": [
       "4×4 Matrix{Float64}:\n",
       " 0.8  0.1  0.1  0.1\n",
       " 0.1  1.2  0.1  0.1\n",
       " 0.1  0.1  1.1  0.1\n",
       " 0.1  0.1  0.1  1.5"
      ]
     },
     "metadata": {},
     "output_type": "display_data"
    }
   ],
   "source": [
    "G1 = 0.1\n",
    "G2 = 0.1\n",
    "matrix = [0.8 G1 G2 G1\n",
    "          G1 1.2 G1 G2\n",
    "          G2 G1 1.1 G1\n",
    "          G1 G2 G1 1.5]"
   ]
  },
  {
   "cell_type": "code",
   "execution_count": 3,
   "metadata": {},
   "outputs": [
    {
     "name": "stdout",
     "output_type": "stream",
     "text": [
      "1.5059 + 0.0im\n",
      "1.5148000000000004"
     ]
    },
    {
     "name": "stdout",
     "output_type": "stream",
     "text": [
      "\n"
     ]
    }
   ],
   "source": [
    "println(det_weak(matrix))\n",
    "println(det(matrix))"
   ]
  },
  {
   "cell_type": "markdown",
   "metadata": {},
   "source": [
    "### Test minor matrices generation"
   ]
  },
  {
   "cell_type": "code",
   "execution_count": 29,
   "metadata": {},
   "outputs": [
    {
     "data": {
      "text/plain": [
       "4×4 Matrix{Int64}:\n",
       " 1  0  2  2\n",
       " 0  1  4  4\n",
       " 3  2  0  8\n",
       " 2  4  5  1"
      ]
     },
     "metadata": {},
     "output_type": "display_data"
    }
   ],
   "source": [
    "matrix = [1 0 2 2; 0 1 4 4; 3 2 0 8; 2 4 5 1]"
   ]
  },
  {
   "cell_type": "code",
   "execution_count": 46,
   "metadata": {},
   "outputs": [
    {
     "data": {
      "text/plain": [
       "-71.0"
      ]
     },
     "metadata": {},
     "output_type": "display_data"
    }
   ],
   "source": [
    "nscatt = 4\n",
    "cindex = 2\n",
    "sum(det.([matrix[setdiff(1:end, i), setdiff(1:end, i)] for i in combinations([j for j in 1:nscatt], cindex)]))"
   ]
  },
  {
   "cell_type": "code",
   "execution_count": 27,
   "metadata": {},
   "outputs": [
    {
     "data": {
      "text/plain": [
       "4-element Vector{Int64}:\n",
       " 1\n",
       " 2\n",
       " 3\n",
       " 4"
      ]
     },
     "metadata": {},
     "output_type": "display_data"
    }
   ],
   "source": [
    "[i for i in 1:4]"
   ]
  },
  {
   "cell_type": "code",
   "execution_count": 19,
   "metadata": {},
   "outputs": [],
   "source": [
    "using Combinatorics"
   ]
  },
  {
   "cell_type": "code",
   "execution_count": 23,
   "metadata": {},
   "outputs": [
    {
     "data": {
      "text/plain": [
       "3-element Vector{Vector{Int64}}:\n",
       " [1, 2]\n",
       " [1, 3]\n",
       " [2, 3]"
      ]
     },
     "metadata": {},
     "output_type": "display_data"
    }
   ],
   "source": [
    "collect(combinations([1,2,3], 2))"
   ]
  },
  {
   "cell_type": "markdown",
   "metadata": {},
   "source": [
    "### Test polynomial coefficients generation"
   ]
  },
  {
   "cell_type": "code",
   "execution_count": 7,
   "metadata": {},
   "outputs": [
    {
     "ename": "LoadError",
     "evalue": "TypeError: non-boolean (Num) used in boolean context",
     "output_type": "error",
     "traceback": [
      "TypeError: non-boolean (Num) used in boolean context",
      "",
      "Stacktrace:",
      " [1] checkbounds",
      "   @ ./abstractarray.jl:656 [inlined]",
      " [2] _getindex",
      "   @ ./multidimensional.jl:838 [inlined]",
      " [3] getindex",
      "   @ ./abstractarray.jl:1218 [inlined]",
      " [4] fromroots(P::Type{Polynomial}, r::Vector{Complex{Num}}; var::Symbol)",
      "   @ Polynomials ~/.julia/packages/Polynomials/4DeNc/src/polynomials/standard-basis.jl:160",
      " [5] #fromroots#14",
      "   @ ~/.julia/packages/Polynomials/4DeNc/src/common.jl:42 [inlined]",
      " [6] fromroots(r::Vector{Complex{Num}})",
      "   @ Polynomials ~/.julia/packages/Polynomials/4DeNc/src/common.jl:42",
      " [7] top-level scope",
      "   @ In[7]:2",
      " [8] eval",
      "   @ ./boot.jl:373 [inlined]",
      " [9] include_string(mapexpr::typeof(REPL.softscope), mod::Module, code::String, filename::String)",
      "   @ Base ./loading.jl:1196"
     ]
    }
   ],
   "source": [
    "@variables x[1:6]\n",
    "Polynomials.fromroots([1*x[1], x[2]+x[3]*1im, 3*x[1], x[4], 3*x[5]*1im])"
   ]
  },
  {
   "cell_type": "code",
   "execution_count": 6,
   "metadata": {},
   "outputs": [
    {
     "data": {
      "text/plain": [
       "1-element Vector{Symbolics.Arr{Num, 1}}:\n",
       " x[1:5]"
      ]
     },
     "execution_count": 6,
     "metadata": {},
     "output_type": "execute_result"
    }
   ],
   "source": [
    "@variables x[1:5]"
   ]
  },
  {
   "cell_type": "code",
   "execution_count": 6,
   "metadata": {},
   "outputs": [
    {
     "name": "stdout",
     "output_type": "stream",
     "text": [
      "Complex{Int64}[-6 - 3im, 11 + 4im, -6 - 1im, 1 + 0im]"
     ]
    },
    {
     "data": {
      "text/plain": [
       "0 + 1im"
      ]
     },
     "execution_count": 6,
     "metadata": {},
     "output_type": "execute_result"
    }
   ],
   "source": [
    "function p(x, G)\n",
    "    res = Polynomials.fromroots([1*G,2+1im,3])\n",
    "    print(Polynomials.coeffs(res))\n",
    "    res(x)\n",
    "end\n",
    "\n",
    "p(2, 1)"
   ]
  },
  {
   "cell_type": "markdown",
   "metadata": {},
   "source": [
    "### Test NLsolve / Roots.jl"
   ]
  },
  {
   "cell_type": "code",
   "execution_count": 3,
   "metadata": {},
   "outputs": [
    {
     "data": {
      "text/plain": [
       "3-element Vector{ComplexF64}:\n",
       "  132.46198976325752 + 0.0im\n",
       " -7.0133684750926255 - 42.53024981045747im\n",
       "   -7.01336847509261 + 42.53024981045747im"
      ]
     },
     "execution_count": 3,
     "metadata": {},
     "output_type": "execute_result"
    }
   ],
   "source": [
    "G12 = 1/8/π^2\n",
    "alphas = [(1/2)*(1/G12 + ((3 + 2*sqrt(2))^(1/3)*Complex(G12^6)^(1/3))/G12^3 + G12/Complex(3*G12^6 + 2*sqrt(2)*G12^6)^(1/3))\n",
    "          conj(-((-2 + ((3 + 2*sqrt(2))^(1/3)*Complex(G12^6)^(1/3))/G12^2 + Complex(G12^6)^(2/3)/((3 + 2*sqrt(2))^(1/3)*G12^4)\n",
    "            + sqrt(6 - (3*Complex(G12^6)^(1/3))/((3 + 2*sqrt(2))^(2/3)*G12^2) - (3*Complex(3 + 2*sqrt(2))^(2/3)*Complex(G12^6)^(2/3))/G12^4))/(4*G12)))\n",
    "          (2 - ((3 + 2*sqrt(2))^(1/3)*Complex(G12^6)^(1/3))/G12^2 - G12^2/Complex(3*G12^6 + 2*sqrt(2)*G12^6)^(1/3) +\n",
    "            sqrt(6 - (3*(3 + 2*sqrt(2))^(2/3)*Complex(G12^6)^(2/3))/G12^4 - (3*G12^4)/Complex(3*G12^6 + 2*sqrt(2)*G12^6)^(2/3)))/(4*G12)]"
   ]
  },
  {
   "cell_type": "code",
   "execution_count": 8,
   "metadata": {},
   "outputs": [
    {
     "name": "stdout",
     "output_type": "stream",
     "text": [
      "sol = \n",
      "Complex{BigFloat}[-7.013368475092600482445835849401586148371126697377497396993147566773778372522662 + 42.53024981045743992016289461947781909647920721596898054239751469515387324972564im, -7.013368475092600482445835849401586148371126697377497396993147566773778372522731 - 42.53024981045743992016289461947781909647920721596898054239751469515387324972564im, 132.46198976325749975467326049460771358600803016240562244219341392091438694475 + 1.056547184992428414884167746345121611195642578987945993199112565339840246910245e-76im]\n",
      "\n",
      "ftol = \n",
      "9.999999999999999614253175133875575759313354743387232240038419096073369208121047e-81\n",
      "\n",
      "residual_norm = \n",
      "4.217124194382113912841906612383011928695386635173295589934373049597416147285895e-81\n",
      "\n",
      "FF(alphas) = \n",
      "Complex{BigFloat}[3.29443685725953850760892939102188093990936293199015860939930094534629509092805e-83 - 1.620423099935798853015205197999579323154079466276093954006629270217553302687959e-84im, -4.216879177292209289739429620508007603083984552947403020031105210043257716387904e-81 - 4.545849714160623264199372273320186416598561591609925573886555256636004381801882e-83im, 0.0 + 0.0im]\n"
     ]
    }
   ],
   "source": [
    "G12 = big(1/8/π^2)\n",
    "\n",
    "function f!(F, x)\n",
    "    F[1] = -G12^3 + 1/(2*x[1]*x[2]*x[3])\n",
    "    F[2] = 3*G12^2 - (x[1]+x[2]+x[3])/(x[1]*x[2]*x[3])\n",
    "    F[3] = x[1] + x[2]*x[3]/(x[2]+x[3])\n",
    "end\n",
    "\n",
    "function j!(J, x)\n",
    "    J[1, 1] = -1/(2*x[1]^2*x[2]*x[3])\n",
    "    J[1, 2] = -1/(2*x[1]*x[2]^2*x[3])\n",
    "    J[1, 3] = -1/(2*x[1]*x[2]*x[3]^2)\n",
    "    J[2, 1] = (x[2]+x[3])/(x[1]^2*x[2]*x[3])\n",
    "    J[2, 2] = (x[1]+x[3])/(x[1]*x[2]^2*x[3])\n",
    "    J[2, 3] = (x[1]+x[2])/(x[1]*x[2]*x[3]^2)\n",
    "    J[3, 1] = 1\n",
    "    J[3, 2] = x[3]/(x[2]+x[3]) - x[2]*x[3]/(x[2]+x[3])^2\n",
    "    J[3, 3] = x[2]/(x[2]+x[3]) - x[2]*x[3]/(x[2]+x[3])^2\n",
    "end\n",
    "\n",
    "s = nlsolve(f!, j!, 10*(big.(rand(3)+rand(3)*1im)), ftol=big(1e-20), iterations=1_000)\n",
    "\n",
    "while s.f_converged == false\n",
    "    s = nlsolve(f!, j!, 10*(big.(rand(3)+rand(3)*1im)), ftol=big(1e-20), iterations=1_000)\n",
    "end\n",
    "\n",
    "s = nlsolve(f!, j!, s.zero, ftol=big(1e-80), iterations=10_000)\n",
    "\n",
    "FF = big.([1. + 1im, 1., 1.])\n",
    "f!(FF, s.zero)\n",
    "\n",
    "println(\"sol = \\n\", s.zero)\n",
    "println(\"\\nftol = \\n\", s.ftol)\n",
    "println(\"\\nresidual_norm = \\n\", s.residual_norm)\n",
    "println(\"\\nFF(alphas) = \\n\", FF)\n",
    "\n",
    "while validparameters == false"
   ]
  },
  {
   "cell_type": "code",
   "execution_count": 9,
   "metadata": {},
   "outputs": [
    {
     "name": "stdout",
     "output_type": "stream",
     "text": [
      "sol = ComplexF64[0.8127129771322091 - 16.53685122578801im, -58.475534263829 + 4.333303251578301im, -15.793502208363233 + 28.33943032002051im, 15.477363337189736 + 17.125211395667115im]\n",
      "\n",
      "ftol = 1.0e-20\n",
      "residual_norm = 1.4062285205060312e-12\n",
      "FF(alphas) = ComplexF64[-1.4432899320127035e-15 + 6.106226635438361e-16im, 1.4210854715202004e-14 + 1.4210854715202004e-14im, -3.410605131648481e-13 - 1.3642420526593924e-12im, 1.0408340855860843e-17 - 2.7755575615628914e-17im]\n"
     ]
    }
   ],
   "source": [
    "ω = 1.\n",
    "J = Stdd(1.)\n",
    "normalized = false\n",
    "nscatt = 4\n",
    "r = π\n",
    "diagover2 = sqrt(2)*r/2\n",
    "G1 = greensfun([diagover2 0. 0.], [0. -diagover2 0.], ω, J)\n",
    "G2 = greensfun([diagover2 0. 0.], [-diagover2 0. 0.], ω, J)\n",
    "function f!(F, x)\n",
    "    F[1] = -G1^2*(x[1]+x[3]+2*G2*x[1]*x[3])*(x[2]+x[4]+2*G2*x[2]*x[4])+(-1+G2^2*x[1]*x[3])*(-1+G2^2*x[2]*x[4])\n",
    "    F[2] = -x[3]-x[4]+x[2]*(-1+2*G1^2*x[3]*x[4]+G2^2*x[3]*x[4])+x[1]*(-1+G2^2*(x[3]*x[4]+x[2]*(x[3]+x[4]))+2*G1^2*(x[3]*x[4]+x[2]*(x[3]+x[4]+4*G2*x[3]*x[4])))\n",
    "    F[3] = x[3]*x[4]+x[2]*(x[3]+x[4])+x[1]*(x[2]+x[3]+x[4]-4*G1^2*x[2]*x[3]*x[4]-2*G2^2*x[2]*x[3]*x[4])\n",
    "    F[4] = 1/x[1]+1/x[2]+1/x[3]+1/x[4]\n",
    "end\n",
    "s = nlsolve(f!, 10*(rand(nscatt)+rand(nscatt)*1im), ftol=1e-5, iterations=1_000)\n",
    "while s.f_converged == false\n",
    "    s = nlsolve(f!, 10*(rand(nscatt)+rand(nscatt)*1im), ftol=1e-5, iterations=1_000)\n",
    "end\n",
    "s = nlsolve(f!, s.zero, ftol=1e-20, iterations=10_000)\n",
    "FF = ones(nscatt)+ones(nscatt)*1im\n",
    "f!(FF, s.zero)\n",
    "println(\"sol = \", s.zero)\n",
    "println(\"\\nftol = \" * string(s.ftol) * \"\\nresidual_norm = \" * string(s.residual_norm) * \"\\nFF(alphas) = \" * string(FF))"
   ]
  },
  {
   "cell_type": "markdown",
   "metadata": {},
   "source": [
    "### Matrix 3x3 comparison with mathematica"
   ]
  },
  {
   "cell_type": "code",
   "execution_count": 2,
   "metadata": {},
   "outputs": [],
   "source": [
    "J = Stdd(1.)\n",
    "\n",
    "scattpos = [[-π 0. 0.]\n",
    "            [0. sqrt(3)*π 0.] # equidistant scatterers with G = 1/8/π^2\n",
    "            [π 0. 0.]]\n",
    "\n",
    "# println(greensfun(scattpos[1,:], scattpos[2,:], 1.1, J; imagshift=0))\n",
    "# println(greensfun(scattpos[1,:], scattpos[3,:], 1.1, J; imagshift=0))\n",
    "# println(greensfun(scattpos[2,:], scattpos[3,:], 1.1, J; imagshift=0))\n",
    "\n",
    "G12 = 1/8/π^2\n",
    "alphas = [(1/2)*(1/G12 + ((3 + 2*sqrt(2))^(1/3)*Complex(G12^6)^(1/3))/G12^3 + G12/Complex(3*G12^6 + 2*sqrt(2)*G12^6)^(1/3))\n",
    "          conj(-((-2 + ((3 + 2*sqrt(2))^(1/3)*Complex(G12^6)^(1/3))/G12^2 + Complex(G12^6)^(2/3)/((3 + 2*sqrt(2))^(1/3)*G12^4)\n",
    "            + sqrt(6 - (3*Complex(G12^6)^(1/3))/((3 + 2*sqrt(2))^(2/3)*G12^2) - (3*Complex(3 + 2*sqrt(2))^(2/3)*Complex(G12^6)^(2/3))/G12^4))/(4*G12)))\n",
    "          (2 - ((3 + 2*sqrt(2))^(1/3)*Complex(G12^6)^(1/3))/G12^2 - G12^2/Complex(3*G12^6 + 2*sqrt(2)*G12^6)^(1/3) +\n",
    "            sqrt(6 - (3*(3 + 2*sqrt(2))^(2/3)*Complex(G12^6)^(2/3))/G12^4 - (3*G12^4)/Complex(3*G12^6 + 2*sqrt(2)*G12^6)^(2/3)))/(4*G12)];"
   ]
  },
  {
   "cell_type": "code",
   "execution_count": 6,
   "metadata": {},
   "outputs": [
    {
     "data": {
      "text/plain": [
       "3×3 Matrix{ComplexF64}:\n",
       " 0.00754934+0.0im   -0.0126651+0.0im         -0.0126651+0.0im\n",
       " -0.0126651+0.0im  -0.00377467+0.0228902im   -0.0126651+0.0im\n",
       " -0.0126651+0.0im   -0.0126651+0.0im        -0.00377467-0.0228902im"
      ]
     },
     "metadata": {},
     "output_type": "display_data"
    }
   ],
   "source": [
    "zchop(intmatrix(scattpos, alphas, 1, J))"
   ]
  },
  {
   "cell_type": "code",
   "execution_count": 7,
   "metadata": {},
   "outputs": [
    {
     "data": {
      "text/plain": [
       "Eigen{ComplexF64, ComplexF64, Matrix{ComplexF64}, Vector{ComplexF64}}\n",
       "values:\n",
       "3-element Vector{ComplexF64}:\n",
       " -2.1760297242546878e-7 + 3.608271671472191e-8im\n",
       "   7.755363140379513e-8 - 2.0648783881955375e-7im\n",
       "  1.4004934100794057e-7 + 1.704051220907287e-7im\n",
       "vectors:\n",
       "3×3 Matrix{ComplexF64}:\n",
       " 0.651591+0.0im       0.651595+0.0im       0.651595+0.0im\n",
       " 0.194203-0.500001im  0.194199-0.499995im  0.194193-0.500004im\n",
       " 0.194203+0.499999im  0.194194+0.500005im  0.194197+0.499996im"
      ]
     },
     "metadata": {},
     "output_type": "display_data"
    }
   ],
   "source": [
    "eigen(intmatrix(scattpos, alphas, 1, J))"
   ]
  },
  {
   "cell_type": "markdown",
   "metadata": {},
   "source": [
    "### Test sensitivity wrt parameter - derivative of power wrt $\\omega$"
   ]
  },
  {
   "cell_type": "code",
   "execution_count": 48,
   "metadata": {},
   "outputs": [
    {
     "data": {
      "text/plain": [
       "sensitivityEP (generic function with 2 methods)"
      ]
     },
     "metadata": {},
     "output_type": "display_data"
    }
   ],
   "source": [
    "function sensitivityEP(r, ϕinput, scattpos, alphas, ω, J::Stdd; normalized=false, imagshift=1E-23, reltol=1e-8)\n",
    "    f = ω -> powerout(r, ϕinput, scattpos, alphas, ω, J; normalized=normalized, imagshift=imagshift, reltol=reltol)[1]\n",
    "    der = ω -> ForwardDiff.derivative(f, ω)\n",
    "    return der(ω)\n",
    "end"
   ]
  },
  {
   "cell_type": "code",
   "execution_count": 47,
   "metadata": {},
   "outputs": [
    {
     "ename": "MethodError",
     "evalue": "MethodError: no method matching Float64(::ForwardDiff.Dual{ForwardDiff.Tag{var\"#52#54\"{Bool, Float64, Float64, Vector{ComplexF64}, Matrix{Float64}, Vector{ComplexF64}, Float64, Stdd{Float64}}, Float64}, Float64, 1})\nClosest candidates are:\n  (::Type{T})(::Real, !Matched::RoundingMode) where T<:AbstractFloat at /usr/share/julia/base/rounding.jl:200\n  (::Type{T})(::T) where T<:Number at /usr/share/julia/base/boot.jl:770\n  (::Type{T})(!Matched::AbstractChar) where T<:Union{AbstractChar, Number} at /usr/share/julia/base/char.jl:50\n  ...",
     "output_type": "error",
     "traceback": [
      "MethodError: no method matching Float64(::ForwardDiff.Dual{ForwardDiff.Tag{var\"#52#54\"{Bool, Float64, Float64, Vector{ComplexF64}, Matrix{Float64}, Vector{ComplexF64}, Float64, Stdd{Float64}}, Float64}, Float64, 1})\n",
      "Closest candidates are:\n",
      "  (::Type{T})(::Real, !Matched::RoundingMode) where T<:AbstractFloat at /usr/share/julia/base/rounding.jl:200\n",
      "  (::Type{T})(::T) where T<:Number at /usr/share/julia/base/boot.jl:770\n",
      "  (::Type{T})(!Matched::AbstractChar) where T<:Union{AbstractChar, Number} at /usr/share/julia/base/char.jl:50\n",
      "  ...\n",
      "\n",
      "Stacktrace:\n",
      "  [1] (::Cubature.var\"#17#18\"{Bool, Bool, Int64, Float64, Int64, Int64, Int32, Ptr{Nothing}, Cubature.IntegrandData{Main.ScatterersDDA.var\"#f#30\"{Bool, Float64, ForwardDiff.Dual{ForwardDiff.Tag{var\"#52#54\"{Bool, Float64, Float64, Vector{ComplexF64}, Matrix{Float64}, Vector{ComplexF64}, Float64, Stdd{Float64}}, Float64}, Float64, 1}, Vector{ComplexF64}, Matrix{Float64}, Vector{ComplexF64}, Float64, Stdd{Float64}}}, Vector{Float64}, Vector{Float64}, Vector{Float64}, Vector{Float64}, Int64})()\n",
      "    @ Cubature ~/.julia/packages/Cubature/5zwuu/src/Cubature.jl:215\n",
      "  [2] disable_sigint(f::Cubature.var\"#17#18\"{Bool, Bool, Int64, Float64, Int64, Int64, Int32, Ptr{Nothing}, Cubature.IntegrandData{Main.ScatterersDDA.var\"#f#30\"{Bool, Float64, ForwardDiff.Dual{ForwardDiff.Tag{var\"#52#54\"{Bool, Float64, Float64, Vector{ComplexF64}, Matrix{Float64}, Vector{ComplexF64}, Float64, Stdd{Float64}}, Float64}, Float64, 1}, Vector{ComplexF64}, Matrix{Float64}, Vector{ComplexF64}, Float64, Stdd{Float64}}}, Vector{Float64}, Vector{Float64}, Vector{Float64}, Vector{Float64}, Int64})\n",
      "    @ Base ./c.jl:458\n",
      "  [3] cubature(xscalar::Bool, fscalar::Bool, vectorized::Bool, padaptive::Bool, fdim::Int64, f::Main.ScatterersDDA.var\"#f#30\"{Bool, Float64, ForwardDiff.Dual{ForwardDiff.Tag{var\"#52#54\"{Bool, Float64, Float64, Vector{ComplexF64}, Matrix{Float64}, Vector{ComplexF64}, Float64, Stdd{Float64}}, Float64}, Float64, 1}, Vector{ComplexF64}, Matrix{Float64}, Vector{ComplexF64}, Float64, Stdd{Float64}}, xmin_::Vector{Int64}, xmax_::Vector{Float64}, reqRelError::Float64, reqAbsError::Int64, maxEval::Int64, error_norm::Int32)\n",
      "    @ Cubature ~/.julia/packages/Cubature/5zwuu/src/Cubature.jl:169\n",
      "  [4] #hcubature#22\n",
      "    @ ~/.julia/packages/Cubature/5zwuu/src/Cubature.jl:230 [inlined]\n",
      "  [5] powerout(r::ForwardDiff.Dual{ForwardDiff.Tag{var\"#52#54\"{Bool, Float64, Float64, Vector{ComplexF64}, Matrix{Float64}, Vector{ComplexF64}, Float64, Stdd{Float64}}, Float64}, Float64, 1}, ϕinput::Vector{ComplexF64}, scattpos::Matrix{Float64}, alphas::Vector{ComplexF64}, ω::Float64, J::Stdd{Float64}; normalized::Bool, imagshift::Float64, reltol::Float64)\n",
      "    @ Main.ScatterersDDA ~/GitRepos/ScatterersDDA/src/Power.jl:9\n",
      "  [6] #52\n",
      "    @ ~/GitRepos/ScatterersDDA/notebooks/test.ipynb:2 [inlined]\n",
      "  [7] derivative\n",
      "    @ ~/.julia/packages/ForwardDiff/pDtsf/src/derivative.jl:14 [inlined]\n",
      "  [8] #53\n",
      "    @ ~/GitRepos/ScatterersDDA/notebooks/test.ipynb:3 [inlined]\n",
      "  [9] #sensitivityEP#51\n",
      "    @ ~/GitRepos/ScatterersDDA/notebooks/test.ipynb:4 [inlined]\n",
      " [10] sensitivityEP(r::Float64, ϕinput::Vector{ComplexF64}, scattpos::Matrix{Float64}, alphas::Vector{ComplexF64}, ω::Float64, J::Stdd{Float64})\n",
      "    @ Main ~/GitRepos/ScatterersDDA/notebooks/test.ipynb:2\n",
      " [11] top-level scope\n",
      "    @ ~/GitRepos/ScatterersDDA/notebooks/test.ipynb:1"
     ]
    }
   ],
   "source": [
    "sensitivityEP(1., ϕinput, scattpos, alphas, 1., J)"
   ]
  },
  {
   "cell_type": "code",
   "execution_count": 33,
   "metadata": {},
   "outputs": [
    {
     "data": {
      "text/plain": [
       "dercos (generic function with 1 method)"
      ]
     },
     "metadata": {},
     "output_type": "display_data"
    }
   ],
   "source": [
    "function dercos(x)\n",
    "    f = x -> cos(x)\n",
    "    der = x -> ForwardDiff.derivative(f, x)\n",
    "    return der(x)\n",
    "end"
   ]
  },
  {
   "cell_type": "code",
   "execution_count": 35,
   "metadata": {},
   "outputs": [
    {
     "data": {
      "image/png": "[encoded data removed]",
      "image/svg+xml": "<?xml version=\"1.0\" encoding=\"utf-8\"?>\n<svg xmlns=\"http://www.w3.org/2000/svg\" xmlns:xlink=\"http://www.w3.org/1999/xlink\" width=\"600\" height=\"400\" viewBox=\"0 0 2400 1600\">\n<defs>\n  <clipPath id=\"clip320\">\n    <rect x=\"0\" y=\"0\" width=\"2400\" height=\"1600\"/>\n  </clipPath>\n</defs>\n<path clip-path=\"url(#clip320)\" d=\"\nM0 1600 L2400 1600 L2400 0 L0 0  Z\n  \" fill=\"#ffffff\" fill-rule=\"evenodd\" fill-opacity=\"1\"/>\n<defs>\n  <clipPath id=\"clip321\">\n    <rect x=\"480\" y=\"0\" width=\"1681\" height=\"1600\"/>\n  </clipPath>\n</defs>\n<path clip-path=\"url(#clip320)\" d=\"\nM193.936 1486.45 L2352.76 1486.45 L2352.76 47.2441 L193.936 47.2441  Z\n  \" fill=\"#ffffff\" fill-rule=\"evenodd\" fill-opacity=\"1\"/>\n<defs>\n  <clipPath id=\"clip322\">\n    <rect x=\"193\" y=\"47\" width=\"2160\" height=\"1440\"/>\n  </clipPath>\n</defs>\n<polyline clip-path=\"url(#clip322)\" style=\"stroke:#000000; stroke-linecap:butt; stroke-linejoin:round; stroke-width:2; stroke-opacity:0.1; fill:none\" points=\"\n  255.035,1486.45 255.035,47.2441 \n  \"/>\n<polyline clip-path=\"url(#clip322)\" style=\"stroke:#000000; stroke-linecap:butt; stroke-linejoin:round; stroke-width:2; stroke-opacity:0.1; fill:none\" points=\"\n  579.173,1486.45 579.173,47.2441 \n  \"/>\n<polyline clip-path=\"url(#clip322)\" style=\"stroke:#000000; stroke-linecap:butt; stroke-linejoin:round; stroke-width:2; stroke-opacity:0.1; fill:none\" points=\"\n  903.312,1486.45 903.312,47.2441 \n  \"/>\n<polyline clip-path=\"url(#clip322)\" style=\"stroke:#000000; stroke-linecap:butt; stroke-linejoin:round; stroke-width:2; stroke-opacity:0.1; fill:none\" points=\"\n  1227.45,1486.45 1227.45,47.2441 \n  \"/>\n<polyline clip-path=\"url(#clip322)\" style=\"stroke:#000000; stroke-linecap:butt; stroke-linejoin:round; stroke-width:2; stroke-opacity:0.1; fill:none\" points=\"\n  1551.59,1486.45 1551.59,47.2441 \n  \"/>\n<polyline clip-path=\"url(#clip322)\" style=\"stroke:#000000; stroke-linecap:butt; stroke-linejoin:round; stroke-width:2; stroke-opacity:0.1; fill:none\" points=\"\n  1875.73,1486.45 1875.73,47.2441 \n  \"/>\n<polyline clip-path=\"url(#clip322)\" style=\"stroke:#000000; stroke-linecap:butt; stroke-linejoin:round; stroke-width:2; stroke-opacity:0.1; fill:none\" points=\"\n  2199.87,1486.45 2199.87,47.2441 \n  \"/>\n<polyline clip-path=\"url(#clip320)\" style=\"stroke:#000000; stroke-linecap:butt; stroke-linejoin:round; stroke-width:4; stroke-opacity:1; fill:none\" points=\"\n  193.936,1486.45 2352.76,1486.45 \n  \"/>\n<polyline clip-path=\"url(#clip320)\" style=\"stroke:#000000; stroke-linecap:butt; stroke-linejoin:round; stroke-width:4; stroke-opacity:1; fill:none\" points=\"\n  255.035,1486.45 255.035,1467.55 \n  \"/>\n<polyline clip-path=\"url(#clip320)\" style=\"stroke:#000000; stroke-linecap:butt; stroke-linejoin:round; stroke-width:4; stroke-opacity:1; fill:none\" points=\"\n  579.173,1486.45 579.173,1467.55 \n  \"/>\n<polyline clip-path=\"url(#clip320)\" style=\"stroke:#000000; stroke-linecap:butt; stroke-linejoin:round; stroke-width:4; stroke-opacity:1; fill:none\" points=\"\n  903.312,1486.45 903.312,1467.55 \n  \"/>\n<polyline clip-path=\"url(#clip320)\" style=\"stroke:#000000; stroke-linecap:butt; stroke-linejoin:round; stroke-width:4; stroke-opacity:1; fill:none\" points=\"\n  1227.45,1486.45 1227.45,1467.55 \n  \"/>\n<polyline clip-path=\"url(#clip320)\" style=\"stroke:#000000; stroke-linecap:butt; stroke-linejoin:round; stroke-width:4; stroke-opacity:1; fill:none\" points=\"\n  1551.59,1486.45 1551.59,1467.55 \n  \"/>\n<polyline clip-path=\"url(#clip320)\" style=\"stroke:#000000; stroke-linecap:butt; stroke-linejoin:round; stroke-width:4; stroke-opacity:1; fill:none\" points=\"\n  1875.73,1486.45 1875.73,1467.55 \n  \"/>\n<polyline clip-path=\"url(#clip320)\" style=\"stroke:#000000; stroke-linecap:butt; stroke-linejoin:round; stroke-width:4; stroke-opacity:1; fill:none\" points=\"\n  2199.87,1486.45 2199.87,1467.55 \n  \"/>\n<path clip-path=\"url(#clip320)\" d=\"M255.035 1517.37 Q251.424 1517.37 249.595 1520.93 Q247.789 1524.47 247.789 1531.6 Q247.789 1538.71 249.595 1542.27 Q251.424 1545.82 255.035 1545.82 Q258.669 1545.82 260.474 1542.27 Q262.303 1538.71 262.303 1531.6 Q262.303 1524.47 260.474 1520.93 Q258.669 1517.37 255.035 1517.37 M255.035 1513.66 Q260.845 1513.66 263.9 1518.27 Q266.979 1522.85 266.979 1531.6 Q266.979 1540.33 263.9 1544.94 Q260.845 1549.52 255.035 1549.52 Q249.225 1549.52 246.146 1544.94 Q243.09 1540.33 243.09 1531.6 Q243.09 1522.85 246.146 1518.27 Q249.225 1513.66 255.035 1513.66 Z\" fill=\"#000000\" fill-rule=\"evenodd\" fill-opacity=\"1\" /><path clip-path=\"url(#clip320)\" d=\"M569.555 1544.91 L577.194 1544.91 L577.194 1518.55 L568.884 1520.21 L568.884 1515.95 L577.148 1514.29 L581.824 1514.29 L581.824 1544.91 L589.463 1544.91 L589.463 1548.85 L569.555 1548.85 L569.555 1544.91 Z\" fill=\"#000000\" fill-rule=\"evenodd\" fill-opacity=\"1\" /><path clip-path=\"url(#clip320)\" d=\"M897.965 1544.91 L914.284 1544.91 L914.284 1548.85 L892.34 1548.85 L892.34 1544.91 Q895.002 1542.16 899.585 1537.53 Q904.191 1532.88 905.372 1531.53 Q907.617 1529.01 908.497 1527.27 Q909.4 1525.51 909.4 1523.82 Q909.4 1521.07 907.455 1519.33 Q905.534 1517.6 902.432 1517.6 Q900.233 1517.6 897.779 1518.36 Q895.349 1519.13 892.571 1520.68 L892.571 1515.95 Q895.395 1514.82 897.849 1514.24 Q900.303 1513.66 902.34 1513.66 Q907.71 1513.66 910.904 1516.35 Q914.099 1519.03 914.099 1523.52 Q914.099 1525.65 913.289 1527.57 Q912.502 1529.47 910.395 1532.07 Q909.816 1532.74 906.715 1535.95 Q903.613 1539.15 897.965 1544.91 Z\" fill=\"#000000\" fill-rule=\"evenodd\" fill-opacity=\"1\" /><path clip-path=\"url(#clip320)\" d=\"M1231.7 1530.21 Q1235.05 1530.93 1236.93 1533.2 Q1238.83 1535.47 1238.83 1538.8 Q1238.83 1543.92 1235.31 1546.72 Q1231.79 1549.52 1225.31 1549.52 Q1223.13 1549.52 1220.82 1549.08 Q1218.53 1548.66 1216.07 1547.81 L1216.07 1543.29 Q1218.02 1544.43 1220.33 1545.01 Q1222.65 1545.58 1225.17 1545.58 Q1229.57 1545.58 1231.86 1543.85 Q1234.17 1542.11 1234.17 1538.8 Q1234.17 1535.75 1232.02 1534.03 Q1229.89 1532.3 1226.07 1532.3 L1222.05 1532.3 L1222.05 1528.45 L1226.26 1528.45 Q1229.71 1528.45 1231.54 1527.09 Q1233.36 1525.7 1233.36 1523.11 Q1233.36 1520.45 1231.47 1519.03 Q1229.59 1517.6 1226.07 1517.6 Q1224.15 1517.6 1221.95 1518.01 Q1219.75 1518.43 1217.11 1519.31 L1217.11 1515.14 Q1219.78 1514.4 1222.09 1514.03 Q1224.43 1513.66 1226.49 1513.66 Q1231.81 1513.66 1234.92 1516.09 Q1238.02 1518.5 1238.02 1522.62 Q1238.02 1525.49 1236.37 1527.48 Q1234.73 1529.45 1231.7 1530.21 Z\" fill=\"#000000\" fill-rule=\"evenodd\" fill-opacity=\"1\" /><path clip-path=\"url(#clip320)\" d=\"M1554.6 1518.36 L1542.79 1536.81 L1554.6 1536.81 L1554.6 1518.36 M1553.37 1514.29 L1559.25 1514.29 L1559.25 1536.81 L1564.18 1536.81 L1564.18 1540.7 L1559.25 1540.7 L1559.25 1548.85 L1554.6 1548.85 L1554.6 1540.7 L1539 1540.7 L1539 1536.19 L1553.37 1514.29 Z\" fill=\"#000000\" fill-rule=\"evenodd\" fill-opacity=\"1\" /><path clip-path=\"url(#clip320)\" d=\"M1866.01 1514.29 L1884.36 1514.29 L1884.36 1518.22 L1870.29 1518.22 L1870.29 1526.7 Q1871.31 1526.35 1872.32 1526.19 Q1873.34 1526 1874.36 1526 Q1880.15 1526 1883.53 1529.17 Q1886.91 1532.34 1886.91 1537.76 Q1886.91 1543.34 1883.44 1546.44 Q1879.96 1549.52 1873.64 1549.52 Q1871.47 1549.52 1869.2 1549.15 Q1866.95 1548.78 1864.55 1548.04 L1864.55 1543.34 Q1866.63 1544.47 1868.85 1545.03 Q1871.07 1545.58 1873.55 1545.58 Q1877.56 1545.58 1879.89 1543.48 Q1882.23 1541.37 1882.23 1537.76 Q1882.23 1534.15 1879.89 1532.04 Q1877.56 1529.94 1873.55 1529.94 Q1871.68 1529.94 1869.8 1530.35 Q1867.95 1530.77 1866.01 1531.65 L1866.01 1514.29 Z\" fill=\"#000000\" fill-rule=\"evenodd\" fill-opacity=\"1\" /><path clip-path=\"url(#clip320)\" d=\"M2200.27 1529.7 Q2197.12 1529.7 2195.27 1531.86 Q2193.44 1534.01 2193.44 1537.76 Q2193.44 1541.49 2195.27 1543.66 Q2197.12 1545.82 2200.27 1545.82 Q2203.42 1545.82 2205.25 1543.66 Q2207.1 1541.49 2207.1 1537.76 Q2207.1 1534.01 2205.25 1531.86 Q2203.42 1529.7 2200.27 1529.7 M2209.55 1515.05 L2209.55 1519.31 Q2207.79 1518.48 2205.99 1518.04 Q2204.21 1517.6 2202.45 1517.6 Q2197.82 1517.6 2195.36 1520.72 Q2192.93 1523.85 2192.59 1530.17 Q2193.95 1528.15 2196.01 1527.09 Q2198.07 1526 2200.55 1526 Q2205.76 1526 2208.77 1529.17 Q2211.8 1532.32 2211.8 1537.76 Q2211.8 1543.08 2208.65 1546.3 Q2205.5 1549.52 2200.27 1549.52 Q2194.28 1549.52 2191.1 1544.94 Q2187.93 1540.33 2187.93 1531.6 Q2187.93 1523.41 2191.82 1518.55 Q2195.71 1513.66 2202.26 1513.66 Q2204.02 1513.66 2205.8 1514.01 Q2207.61 1514.36 2209.55 1515.05 Z\" fill=\"#000000\" fill-rule=\"evenodd\" fill-opacity=\"1\" /><polyline clip-path=\"url(#clip322)\" style=\"stroke:#000000; stroke-linecap:butt; stroke-linejoin:round; stroke-width:2; stroke-opacity:0.1; fill:none\" points=\"\n  193.936,1456.19 2352.76,1456.19 \n  \"/>\n<polyline clip-path=\"url(#clip322)\" style=\"stroke:#000000; stroke-linecap:butt; stroke-linejoin:round; stroke-width:2; stroke-opacity:0.1; fill:none\" points=\"\n  193.936,1111.52 2352.76,1111.52 \n  \"/>\n<polyline clip-path=\"url(#clip322)\" style=\"stroke:#000000; stroke-linecap:butt; stroke-linejoin:round; stroke-width:2; stroke-opacity:0.1; fill:none\" points=\"\n  193.936,766.846 2352.76,766.846 \n  \"/>\n<polyline clip-path=\"url(#clip322)\" style=\"stroke:#000000; stroke-linecap:butt; stroke-linejoin:round; stroke-width:2; stroke-opacity:0.1; fill:none\" points=\"\n  193.936,422.175 2352.76,422.175 \n  \"/>\n<polyline clip-path=\"url(#clip322)\" style=\"stroke:#000000; stroke-linecap:butt; stroke-linejoin:round; stroke-width:2; stroke-opacity:0.1; fill:none\" points=\"\n  193.936,77.5036 2352.76,77.5036 \n  \"/>\n<polyline clip-path=\"url(#clip320)\" style=\"stroke:#000000; stroke-linecap:butt; stroke-linejoin:round; stroke-width:4; stroke-opacity:1; fill:none\" points=\"\n  193.936,1486.45 193.936,47.2441 \n  \"/>\n<polyline clip-path=\"url(#clip320)\" style=\"stroke:#000000; stroke-linecap:butt; stroke-linejoin:round; stroke-width:4; stroke-opacity:1; fill:none\" points=\"\n  193.936,1456.19 212.834,1456.19 \n  \"/>\n<polyline clip-path=\"url(#clip320)\" style=\"stroke:#000000; stroke-linecap:butt; stroke-linejoin:round; stroke-width:4; stroke-opacity:1; fill:none\" points=\"\n  193.936,1111.52 212.834,1111.52 \n  \"/>\n<polyline clip-path=\"url(#clip320)\" style=\"stroke:#000000; stroke-linecap:butt; stroke-linejoin:round; stroke-width:4; stroke-opacity:1; fill:none\" points=\"\n  193.936,766.846 212.834,766.846 \n  \"/>\n<polyline clip-path=\"url(#clip320)\" style=\"stroke:#000000; stroke-linecap:butt; stroke-linejoin:round; stroke-width:4; stroke-opacity:1; fill:none\" points=\"\n  193.936,422.175 212.834,422.175 \n  \"/>\n<polyline clip-path=\"url(#clip320)\" style=\"stroke:#000000; stroke-linecap:butt; stroke-linejoin:round; stroke-width:4; stroke-opacity:1; fill:none\" points=\"\n  193.936,77.5036 212.834,77.5036 \n  \"/>\n<path clip-path=\"url(#clip320)\" d=\"M50.9921 1456.64 L80.6679 1456.64 L80.6679 1460.57 L50.9921 1460.57 L50.9921 1456.64 Z\" fill=\"#000000\" fill-rule=\"evenodd\" fill-opacity=\"1\" /><path clip-path=\"url(#clip320)\" d=\"M91.5706 1469.53 L99.2095 1469.53 L99.2095 1443.17 L90.8993 1444.83 L90.8993 1440.58 L99.1632 1438.91 L103.839 1438.91 L103.839 1469.53 L111.478 1469.53 L111.478 1473.47 L91.5706 1473.47 L91.5706 1469.53 Z\" fill=\"#000000\" fill-rule=\"evenodd\" fill-opacity=\"1\" /><path clip-path=\"url(#clip320)\" d=\"M120.922 1467.59 L125.807 1467.59 L125.807 1473.47 L120.922 1473.47 L120.922 1467.59 Z\" fill=\"#000000\" fill-rule=\"evenodd\" fill-opacity=\"1\" /><path clip-path=\"url(#clip320)\" d=\"M145.992 1441.99 Q142.381 1441.99 140.552 1445.55 Q138.746 1449.09 138.746 1456.22 Q138.746 1463.33 140.552 1466.89 Q142.381 1470.44 145.992 1470.44 Q149.626 1470.44 151.431 1466.89 Q153.26 1463.33 153.26 1456.22 Q153.26 1449.09 151.431 1445.55 Q149.626 1441.99 145.992 1441.99 M145.992 1438.28 Q151.802 1438.28 154.857 1442.89 Q157.936 1447.47 157.936 1456.22 Q157.936 1464.95 154.857 1469.56 Q151.802 1474.14 145.992 1474.14 Q140.181 1474.14 137.103 1469.56 Q134.047 1464.95 134.047 1456.22 Q134.047 1447.47 137.103 1442.89 Q140.181 1438.28 145.992 1438.28 Z\" fill=\"#000000\" fill-rule=\"evenodd\" fill-opacity=\"1\" /><path clip-path=\"url(#clip320)\" d=\"M51.9875 1111.97 L81.6633 1111.97 L81.6633 1115.9 L51.9875 1115.9 L51.9875 1111.97 Z\" fill=\"#000000\" fill-rule=\"evenodd\" fill-opacity=\"1\" /><path clip-path=\"url(#clip320)\" d=\"M101.756 1097.32 Q98.1447 1097.32 96.316 1100.88 Q94.5104 1104.42 94.5104 1111.55 Q94.5104 1118.66 96.316 1122.22 Q98.1447 1125.76 101.756 1125.76 Q105.39 1125.76 107.196 1122.22 Q109.024 1118.66 109.024 1111.55 Q109.024 1104.42 107.196 1100.88 Q105.39 1097.32 101.756 1097.32 M101.756 1093.61 Q107.566 1093.61 110.621 1098.22 Q113.7 1102.8 113.7 1111.55 Q113.7 1120.28 110.621 1124.89 Q107.566 1129.47 101.756 1129.47 Q95.9456 1129.47 92.8669 1124.89 Q89.8114 1120.28 89.8114 1111.55 Q89.8114 1102.8 92.8669 1098.22 Q95.9456 1093.61 101.756 1093.61 Z\" fill=\"#000000\" fill-rule=\"evenodd\" fill-opacity=\"1\" /><path clip-path=\"url(#clip320)\" d=\"M121.918 1122.92 L126.802 1122.92 L126.802 1128.8 L121.918 1128.8 L121.918 1122.92 Z\" fill=\"#000000\" fill-rule=\"evenodd\" fill-opacity=\"1\" /><path clip-path=\"url(#clip320)\" d=\"M137.033 1094.24 L155.39 1094.24 L155.39 1098.17 L141.316 1098.17 L141.316 1106.64 Q142.334 1106.3 143.353 1106.14 Q144.371 1105.95 145.39 1105.95 Q151.177 1105.95 154.556 1109.12 Q157.936 1112.29 157.936 1117.71 Q157.936 1123.29 154.464 1126.39 Q150.992 1129.47 144.672 1129.47 Q142.496 1129.47 140.228 1129.1 Q137.982 1128.73 135.575 1127.99 L135.575 1123.29 Q137.658 1124.42 139.881 1124.98 Q142.103 1125.53 144.58 1125.53 Q148.584 1125.53 150.922 1123.43 Q153.26 1121.32 153.26 1117.71 Q153.26 1114.1 150.922 1111.99 Q148.584 1109.89 144.58 1109.89 Q142.705 1109.89 140.83 1110.3 Q138.978 1110.72 137.033 1111.6 L137.033 1094.24 Z\" fill=\"#000000\" fill-rule=\"evenodd\" fill-opacity=\"1\" /><path clip-path=\"url(#clip320)\" d=\"M100.76 752.645 Q97.1493 752.645 95.3206 756.209 Q93.515 759.751 93.515 766.881 Q93.515 773.987 95.3206 777.552 Q97.1493 781.094 100.76 781.094 Q104.395 781.094 106.2 777.552 Q108.029 773.987 108.029 766.881 Q108.029 759.751 106.2 756.209 Q104.395 752.645 100.76 752.645 M100.76 748.941 Q106.571 748.941 109.626 753.547 Q112.705 758.131 112.705 766.881 Q112.705 775.608 109.626 780.214 Q106.571 784.797 100.76 784.797 Q94.9502 784.797 91.8715 780.214 Q88.816 775.608 88.816 766.881 Q88.816 758.131 91.8715 753.547 Q94.9502 748.941 100.76 748.941 Z\" fill=\"#000000\" fill-rule=\"evenodd\" fill-opacity=\"1\" /><path clip-path=\"url(#clip320)\" d=\"M120.922 778.246 L125.807 778.246 L125.807 784.126 L120.922 784.126 L120.922 778.246 Z\" fill=\"#000000\" fill-rule=\"evenodd\" fill-opacity=\"1\" /><path clip-path=\"url(#clip320)\" d=\"M145.992 752.645 Q142.381 752.645 140.552 756.209 Q138.746 759.751 138.746 766.881 Q138.746 773.987 140.552 777.552 Q142.381 781.094 145.992 781.094 Q149.626 781.094 151.431 777.552 Q153.26 773.987 153.26 766.881 Q153.26 759.751 151.431 756.209 Q149.626 752.645 145.992 752.645 M145.992 748.941 Q151.802 748.941 154.857 753.547 Q157.936 758.131 157.936 766.881 Q157.936 775.608 154.857 780.214 Q151.802 784.797 145.992 784.797 Q140.181 784.797 137.103 780.214 Q134.047 775.608 134.047 766.881 Q134.047 758.131 137.103 753.547 Q140.181 748.941 145.992 748.941 Z\" fill=\"#000000\" fill-rule=\"evenodd\" fill-opacity=\"1\" /><path clip-path=\"url(#clip320)\" d=\"M101.756 407.973 Q98.1447 407.973 96.316 411.538 Q94.5104 415.08 94.5104 422.21 Q94.5104 429.316 96.316 432.881 Q98.1447 436.422 101.756 436.422 Q105.39 436.422 107.196 432.881 Q109.024 429.316 109.024 422.21 Q109.024 415.08 107.196 411.538 Q105.39 407.973 101.756 407.973 M101.756 404.27 Q107.566 404.27 110.621 408.876 Q113.7 413.46 113.7 422.21 Q113.7 430.936 110.621 435.543 Q107.566 440.126 101.756 440.126 Q95.9456 440.126 92.8669 435.543 Q89.8114 430.936 89.8114 422.21 Q89.8114 413.46 92.8669 408.876 Q95.9456 404.27 101.756 404.27 Z\" fill=\"#000000\" fill-rule=\"evenodd\" fill-opacity=\"1\" /><path clip-path=\"url(#clip320)\" d=\"M121.918 433.575 L126.802 433.575 L126.802 439.455 L121.918 439.455 L121.918 433.575 Z\" fill=\"#000000\" fill-rule=\"evenodd\" fill-opacity=\"1\" /><path clip-path=\"url(#clip320)\" d=\"M137.033 404.895 L155.39 404.895 L155.39 408.83 L141.316 408.83 L141.316 417.302 Q142.334 416.955 143.353 416.793 Q144.371 416.608 145.39 416.608 Q151.177 416.608 154.556 419.779 Q157.936 422.95 157.936 428.367 Q157.936 433.946 154.464 437.047 Q150.992 440.126 144.672 440.126 Q142.496 440.126 140.228 439.756 Q137.982 439.385 135.575 438.645 L135.575 433.946 Q137.658 435.08 139.881 435.635 Q142.103 436.191 144.58 436.191 Q148.584 436.191 150.922 434.084 Q153.26 431.978 153.26 428.367 Q153.26 424.756 150.922 422.649 Q148.584 420.543 144.58 420.543 Q142.705 420.543 140.83 420.96 Q138.978 421.376 137.033 422.256 L137.033 404.895 Z\" fill=\"#000000\" fill-rule=\"evenodd\" fill-opacity=\"1\" /><path clip-path=\"url(#clip320)\" d=\"M91.5706 90.8485 L99.2095 90.8485 L99.2095 64.4829 L90.8993 66.1495 L90.8993 61.8903 L99.1632 60.2236 L103.839 60.2236 L103.839 90.8485 L111.478 90.8485 L111.478 94.7836 L91.5706 94.7836 L91.5706 90.8485 Z\" fill=\"#000000\" fill-rule=\"evenodd\" fill-opacity=\"1\" /><path clip-path=\"url(#clip320)\" d=\"M120.922 88.904 L125.807 88.904 L125.807 94.7836 L120.922 94.7836 L120.922 88.904 Z\" fill=\"#000000\" fill-rule=\"evenodd\" fill-opacity=\"1\" /><path clip-path=\"url(#clip320)\" d=\"M145.992 63.3023 Q142.381 63.3023 140.552 66.8671 Q138.746 70.4087 138.746 77.5383 Q138.746 84.6448 140.552 88.2096 Q142.381 91.7512 145.992 91.7512 Q149.626 91.7512 151.431 88.2096 Q153.26 84.6448 153.26 77.5383 Q153.26 70.4087 151.431 66.8671 Q149.626 63.3023 145.992 63.3023 M145.992 59.5986 Q151.802 59.5986 154.857 64.2051 Q157.936 68.7884 157.936 77.5383 Q157.936 86.2651 154.857 90.8716 Q151.802 95.4549 145.992 95.4549 Q140.181 95.4549 137.103 90.8716 Q134.047 86.2651 134.047 77.5383 Q134.047 68.7884 137.103 64.2051 Q140.181 59.5986 145.992 59.5986 Z\" fill=\"#000000\" fill-rule=\"evenodd\" fill-opacity=\"1\" /><polyline clip-path=\"url(#clip322)\" style=\"stroke:#009af9; stroke-linecap:butt; stroke-linejoin:round; stroke-width:4; stroke-opacity:1; fill:none\" points=\"\n  255.035,766.846 481.326,1209.95 707.617,1445.72 933.909,1363.83 1160.2,1002.61 1386.49,531.077 1612.78,169.858 1839.07,87.9763 2065.37,323.745 2291.66,766.846 \n  \n  \"/>\n<path clip-path=\"url(#clip320)\" d=\"\nM1988.5 198.898 L2280.8 198.898 L2280.8 95.2176 L1988.5 95.2176  Z\n  \" fill=\"#ffffff\" fill-rule=\"evenodd\" fill-opacity=\"1\"/>\n<polyline clip-path=\"url(#clip320)\" style=\"stroke:#000000; stroke-linecap:butt; stroke-linejoin:round; stroke-width:4; stroke-opacity:1; fill:none\" points=\"\n  1988.5,198.898 2280.8,198.898 2280.8,95.2176 1988.5,95.2176 1988.5,198.898 \n  \"/>\n<polyline clip-path=\"url(#clip320)\" style=\"stroke:#009af9; stroke-linecap:butt; stroke-linejoin:round; stroke-width:4; stroke-opacity:1; fill:none\" points=\"\n  2012.48,147.058 2156.4,147.058 \n  \"/>\n<path clip-path=\"url(#clip320)\" d=\"M2194.23 166.745 Q2192.43 171.375 2190.72 172.787 Q2189 174.199 2186.13 174.199 L2182.73 174.199 L2182.73 170.634 L2185.23 170.634 Q2186.99 170.634 2187.96 169.8 Q2188.93 168.967 2190.11 165.865 L2190.88 163.921 L2180.39 138.412 L2184.91 138.412 L2193.01 158.689 L2201.11 138.412 L2205.62 138.412 L2194.23 166.745 Z\" fill=\"#000000\" fill-rule=\"evenodd\" fill-opacity=\"1\" /><path clip-path=\"url(#clip320)\" d=\"M2212.91 160.402 L2220.55 160.402 L2220.55 134.037 L2212.24 135.703 L2212.24 131.444 L2220.51 129.778 L2225.18 129.778 L2225.18 160.402 L2232.82 160.402 L2232.82 164.338 L2212.91 164.338 L2212.91 160.402 Z\" fill=\"#000000\" fill-rule=\"evenodd\" fill-opacity=\"1\" /></svg>\n",
      "text/html": [
       "<?xml version=\"1.0\" encoding=\"utf-8\"?>\n",
       "<svg xmlns=\"http://www.w3.org/2000/svg\" xmlns:xlink=\"http://www.w3.org/1999/xlink\" width=\"600\" height=\"400\" viewBox=\"0 0 2400 1600\">\n",
       "<defs>\n",
       "  <clipPath id=\"clip370\">\n",
       "    <rect x=\"0\" y=\"0\" width=\"2400\" height=\"1600\"/>\n",
       "  </clipPath>\n",
       "</defs>\n",
       "<path clip-path=\"url(#clip370)\" d=\"\n",
       "M0 1600 L2400 1600 L2400 0 L0 0  Z\n",
       "  \" fill=\"#ffffff\" fill-rule=\"evenodd\" fill-opacity=\"1\"/>\n",
       "<defs>\n",
       "  <clipPath id=\"clip371\">\n",
       "    <rect x=\"480\" y=\"0\" width=\"1681\" height=\"1600\"/>\n",
       "  </clipPath>\n",
       "</defs>\n",
       "<path clip-path=\"url(#clip370)\" d=\"\n",
       "M193.936 1486.45 L2352.76 1486.45 L2352.76 47.2441 L193.936 47.2441  Z\n",
       "  \" fill=\"#ffffff\" fill-rule=\"evenodd\" fill-opacity=\"1\"/>\n",
       "<defs>\n",
       "  <clipPath id=\"clip372\">\n",
       "    <rect x=\"193\" y=\"47\" width=\"2160\" height=\"1440\"/>\n",
       "  </clipPath>\n",
       "</defs>\n",
       "<polyline clip-path=\"url(#clip372)\" style=\"stroke:#000000; stroke-linecap:butt; stroke-linejoin:round; stroke-width:2; stroke-opacity:0.1; fill:none\" points=\"\n",
       "  255.035,1486.45 255.035,47.2441 \n",
       "  \"/>\n",
       "<polyline clip-path=\"url(#clip372)\" style=\"stroke:#000000; stroke-linecap:butt; stroke-linejoin:round; stroke-width:2; stroke-opacity:0.1; fill:none\" points=\"\n",
       "  579.173,1486.45 579.173,47.2441 \n",
       "  \"/>\n",
       "<polyline clip-path=\"url(#clip372)\" style=\"stroke:#000000; stroke-linecap:butt; stroke-linejoin:round; stroke-width:2; stroke-opacity:0.1; fill:none\" points=\"\n",
       "  903.312,1486.45 903.312,47.2441 \n",
       "  \"/>\n",
       "<polyline clip-path=\"url(#clip372)\" style=\"stroke:#000000; stroke-linecap:butt; stroke-linejoin:round; stroke-width:2; stroke-opacity:0.1; fill:none\" points=\"\n",
       "  1227.45,1486.45 1227.45,47.2441 \n",
       "  \"/>\n",
       "<polyline clip-path=\"url(#clip372)\" style=\"stroke:#000000; stroke-linecap:butt; stroke-linejoin:round; stroke-width:2; stroke-opacity:0.1; fill:none\" points=\"\n",
       "  1551.59,1486.45 1551.59,47.2441 \n",
       "  \"/>\n",
       "<polyline clip-path=\"url(#clip372)\" style=\"stroke:#000000; stroke-linecap:butt; stroke-linejoin:round; stroke-width:2; stroke-opacity:0.1; fill:none\" points=\"\n",
       "  1875.73,1486.45 1875.73,47.2441 \n",
       "  \"/>\n",
       "<polyline clip-path=\"url(#clip372)\" style=\"stroke:#000000; stroke-linecap:butt; stroke-linejoin:round; stroke-width:2; stroke-opacity:0.1; fill:none\" points=\"\n",
       "  2199.87,1486.45 2199.87,47.2441 \n",
       "  \"/>\n",
       "<polyline clip-path=\"url(#clip370)\" style=\"stroke:#000000; stroke-linecap:butt; stroke-linejoin:round; stroke-width:4; stroke-opacity:1; fill:none\" points=\"\n",
       "  193.936,1486.45 2352.76,1486.45 \n",
       "  \"/>\n",
       "<polyline clip-path=\"url(#clip370)\" style=\"stroke:#000000; stroke-linecap:butt; stroke-linejoin:round; stroke-width:4; stroke-opacity:1; fill:none\" points=\"\n",
       "  255.035,1486.45 255.035,1467.55 \n",
       "  \"/>\n",
       "<polyline clip-path=\"url(#clip370)\" style=\"stroke:#000000; stroke-linecap:butt; stroke-linejoin:round; stroke-width:4; stroke-opacity:1; fill:none\" points=\"\n",
       "  579.173,1486.45 579.173,1467.55 \n",
       "  \"/>\n",
       "<polyline clip-path=\"url(#clip370)\" style=\"stroke:#000000; stroke-linecap:butt; stroke-linejoin:round; stroke-width:4; stroke-opacity:1; fill:none\" points=\"\n",
       "  903.312,1486.45 903.312,1467.55 \n",
       "  \"/>\n",
       "<polyline clip-path=\"url(#clip370)\" style=\"stroke:#000000; stroke-linecap:butt; stroke-linejoin:round; stroke-width:4; stroke-opacity:1; fill:none\" points=\"\n",
       "  1227.45,1486.45 1227.45,1467.55 \n",
       "  \"/>\n",
       "<polyline clip-path=\"url(#clip370)\" style=\"stroke:#000000; stroke-linecap:butt; stroke-linejoin:round; stroke-width:4; stroke-opacity:1; fill:none\" points=\"\n",
       "  1551.59,1486.45 1551.59,1467.55 \n",
       "  \"/>\n",
       "<polyline clip-path=\"url(#clip370)\" style=\"stroke:#000000; stroke-linecap:butt; stroke-linejoin:round; stroke-width:4; stroke-opacity:1; fill:none\" points=\"\n",
       "  1875.73,1486.45 1875.73,1467.55 \n",
       "  \"/>\n",
       "<polyline clip-path=\"url(#clip370)\" style=\"stroke:#000000; stroke-linecap:butt; stroke-linejoin:round; stroke-width:4; stroke-opacity:1; fill:none\" points=\"\n",
       "  2199.87,1486.45 2199.87,1467.55 \n",
       "  \"/>\n",
       "<path clip-path=\"url(#clip370)\" d=\"M255.035 1517.37 Q251.424 1517.37 249.595 1520.93 Q247.789 1524.47 247.789 1531.6 Q247.789 1538.71 249.595 1542.27 Q251.424 1545.82 255.035 1545.82 Q258.669 1545.82 260.474 1542.27 Q262.303 1538.71 262.303 1531.6 Q262.303 1524.47 260.474 1520.93 Q258.669 1517.37 255.035 1517.37 M255.035 1513.66 Q260.845 1513.66 263.9 1518.27 Q266.979 1522.85 266.979 1531.6 Q266.979 1540.33 263.9 1544.94 Q260.845 1549.52 255.035 1549.52 Q249.225 1549.52 246.146 1544.94 Q243.09 1540.33 243.09 1531.6 Q243.09 1522.85 246.146 1518.27 Q249.225 1513.66 255.035 1513.66 Z\" fill=\"#000000\" fill-rule=\"evenodd\" fill-opacity=\"1\" /><path clip-path=\"url(#clip370)\" d=\"M569.555 1544.91 L577.194 1544.91 L577.194 1518.55 L568.884 1520.21 L568.884 1515.95 L577.148 1514.29 L581.824 1514.29 L581.824 1544.91 L589.463 1544.91 L589.463 1548.85 L569.555 1548.85 L569.555 1544.91 Z\" fill=\"#000000\" fill-rule=\"evenodd\" fill-opacity=\"1\" /><path clip-path=\"url(#clip370)\" d=\"M897.965 1544.91 L914.284 1544.91 L914.284 1548.85 L892.34 1548.85 L892.34 1544.91 Q895.002 1542.16 899.585 1537.53 Q904.191 1532.88 905.372 1531.53 Q907.617 1529.01 908.497 1527.27 Q909.4 1525.51 909.4 1523.82 Q909.4 1521.07 907.455 1519.33 Q905.534 1517.6 902.432 1517.6 Q900.233 1517.6 897.779 1518.36 Q895.349 1519.13 892.571 1520.68 L892.571 1515.95 Q895.395 1514.82 897.849 1514.24 Q900.303 1513.66 902.34 1513.66 Q907.71 1513.66 910.904 1516.35 Q914.099 1519.03 914.099 1523.52 Q914.099 1525.65 913.289 1527.57 Q912.502 1529.47 910.395 1532.07 Q909.816 1532.74 906.715 1535.95 Q903.613 1539.15 897.965 1544.91 Z\" fill=\"#000000\" fill-rule=\"evenodd\" fill-opacity=\"1\" /><path clip-path=\"url(#clip370)\" d=\"M1231.7 1530.21 Q1235.05 1530.93 1236.93 1533.2 Q1238.83 1535.47 1238.83 1538.8 Q1238.83 1543.92 1235.31 1546.72 Q1231.79 1549.52 1225.31 1549.52 Q1223.13 1549.52 1220.82 1549.08 Q1218.53 1548.66 1216.07 1547.81 L1216.07 1543.29 Q1218.02 1544.43 1220.33 1545.01 Q1222.65 1545.58 1225.17 1545.58 Q1229.57 1545.58 1231.86 1543.85 Q1234.17 1542.11 1234.17 1538.8 Q1234.17 1535.75 1232.02 1534.03 Q1229.89 1532.3 1226.07 1532.3 L1222.05 1532.3 L1222.05 1528.45 L1226.26 1528.45 Q1229.71 1528.45 1231.54 1527.09 Q1233.36 1525.7 1233.36 1523.11 Q1233.36 1520.45 1231.47 1519.03 Q1229.59 1517.6 1226.07 1517.6 Q1224.15 1517.6 1221.95 1518.01 Q1219.75 1518.43 1217.11 1519.31 L1217.11 1515.14 Q1219.78 1514.4 1222.09 1514.03 Q1224.43 1513.66 1226.49 1513.66 Q1231.81 1513.66 1234.92 1516.09 Q1238.02 1518.5 1238.02 1522.62 Q1238.02 1525.49 1236.37 1527.48 Q1234.73 1529.45 1231.7 1530.21 Z\" fill=\"#000000\" fill-rule=\"evenodd\" fill-opacity=\"1\" /><path clip-path=\"url(#clip370)\" d=\"M1554.6 1518.36 L1542.79 1536.81 L1554.6 1536.81 L1554.6 1518.36 M1553.37 1514.29 L1559.25 1514.29 L1559.25 1536.81 L1564.18 1536.81 L1564.18 1540.7 L1559.25 1540.7 L1559.25 1548.85 L1554.6 1548.85 L1554.6 1540.7 L1539 1540.7 L1539 1536.19 L1553.37 1514.29 Z\" fill=\"#000000\" fill-rule=\"evenodd\" fill-opacity=\"1\" /><path clip-path=\"url(#clip370)\" d=\"M1866.01 1514.29 L1884.36 1514.29 L1884.36 1518.22 L1870.29 1518.22 L1870.29 1526.7 Q1871.31 1526.35 1872.32 1526.19 Q1873.34 1526 1874.36 1526 Q1880.15 1526 1883.53 1529.17 Q1886.91 1532.34 1886.91 1537.76 Q1886.91 1543.34 1883.44 1546.44 Q1879.96 1549.52 1873.64 1549.52 Q1871.47 1549.52 1869.2 1549.15 Q1866.95 1548.78 1864.55 1548.04 L1864.55 1543.34 Q1866.63 1544.47 1868.85 1545.03 Q1871.07 1545.58 1873.55 1545.58 Q1877.56 1545.58 1879.89 1543.48 Q1882.23 1541.37 1882.23 1537.76 Q1882.23 1534.15 1879.89 1532.04 Q1877.56 1529.94 1873.55 1529.94 Q1871.68 1529.94 1869.8 1530.35 Q1867.95 1530.77 1866.01 1531.65 L1866.01 1514.29 Z\" fill=\"#000000\" fill-rule=\"evenodd\" fill-opacity=\"1\" /><path clip-path=\"url(#clip370)\" d=\"M2200.27 1529.7 Q2197.12 1529.7 2195.27 1531.86 Q2193.44 1534.01 2193.44 1537.76 Q2193.44 1541.49 2195.27 1543.66 Q2197.12 1545.82 2200.27 1545.82 Q2203.42 1545.82 2205.25 1543.66 Q2207.1 1541.49 2207.1 1537.76 Q2207.1 1534.01 2205.25 1531.86 Q2203.42 1529.7 2200.27 1529.7 M2209.55 1515.05 L2209.55 1519.31 Q2207.79 1518.48 2205.99 1518.04 Q2204.21 1517.6 2202.45 1517.6 Q2197.82 1517.6 2195.36 1520.72 Q2192.93 1523.85 2192.59 1530.17 Q2193.95 1528.15 2196.01 1527.09 Q2198.07 1526 2200.55 1526 Q2205.76 1526 2208.77 1529.17 Q2211.8 1532.32 2211.8 1537.76 Q2211.8 1543.08 2208.65 1546.3 Q2205.5 1549.52 2200.27 1549.52 Q2194.28 1549.52 2191.1 1544.94 Q2187.93 1540.33 2187.93 1531.6 Q2187.93 1523.41 2191.82 1518.55 Q2195.71 1513.66 2202.26 1513.66 Q2204.02 1513.66 2205.8 1514.01 Q2207.61 1514.36 2209.55 1515.05 Z\" fill=\"#000000\" fill-rule=\"evenodd\" fill-opacity=\"1\" /><polyline clip-path=\"url(#clip372)\" style=\"stroke:#000000; stroke-linecap:butt; stroke-linejoin:round; stroke-width:2; stroke-opacity:0.1; fill:none\" points=\"\n",
       "  193.936,1456.19 2352.76,1456.19 \n",
       "  \"/>\n",
       "<polyline clip-path=\"url(#clip372)\" style=\"stroke:#000000; stroke-linecap:butt; stroke-linejoin:round; stroke-width:2; stroke-opacity:0.1; fill:none\" points=\"\n",
       "  193.936,1111.52 2352.76,1111.52 \n",
       "  \"/>\n",
       "<polyline clip-path=\"url(#clip372)\" style=\"stroke:#000000; stroke-linecap:butt; stroke-linejoin:round; stroke-width:2; stroke-opacity:0.1; fill:none\" points=\"\n",
       "  193.936,766.846 2352.76,766.846 \n",
       "  \"/>\n",
       "<polyline clip-path=\"url(#clip372)\" style=\"stroke:#000000; stroke-linecap:butt; stroke-linejoin:round; stroke-width:2; stroke-opacity:0.1; fill:none\" points=\"\n",
       "  193.936,422.175 2352.76,422.175 \n",
       "  \"/>\n",
       "<polyline clip-path=\"url(#clip372)\" style=\"stroke:#000000; stroke-linecap:butt; stroke-linejoin:round; stroke-width:2; stroke-opacity:0.1; fill:none\" points=\"\n",
       "  193.936,77.5036 2352.76,77.5036 \n",
       "  \"/>\n",
       "<polyline clip-path=\"url(#clip370)\" style=\"stroke:#000000; stroke-linecap:butt; stroke-linejoin:round; stroke-width:4; stroke-opacity:1; fill:none\" points=\"\n",
       "  193.936,1486.45 193.936,47.2441 \n",
       "  \"/>\n",
       "<polyline clip-path=\"url(#clip370)\" style=\"stroke:#000000; stroke-linecap:butt; stroke-linejoin:round; stroke-width:4; stroke-opacity:1; fill:none\" points=\"\n",
       "  193.936,1456.19 212.834,1456.19 \n",
       "  \"/>\n",
       "<polyline clip-path=\"url(#clip370)\" style=\"stroke:#000000; stroke-linecap:butt; stroke-linejoin:round; stroke-width:4; stroke-opacity:1; fill:none\" points=\"\n",
       "  193.936,1111.52 212.834,1111.52 \n",
       "  \"/>\n",
       "<polyline clip-path=\"url(#clip370)\" style=\"stroke:#000000; stroke-linecap:butt; stroke-linejoin:round; stroke-width:4; stroke-opacity:1; fill:none\" points=\"\n",
       "  193.936,766.846 212.834,766.846 \n",
       "  \"/>\n",
       "<polyline clip-path=\"url(#clip370)\" style=\"stroke:#000000; stroke-linecap:butt; stroke-linejoin:round; stroke-width:4; stroke-opacity:1; fill:none\" points=\"\n",
       "  193.936,422.175 212.834,422.175 \n",
       "  \"/>\n",
       "<polyline clip-path=\"url(#clip370)\" style=\"stroke:#000000; stroke-linecap:butt; stroke-linejoin:round; stroke-width:4; stroke-opacity:1; fill:none\" points=\"\n",
       "  193.936,77.5036 212.834,77.5036 \n",
       "  \"/>\n",
       "<path clip-path=\"url(#clip370)\" d=\"M50.9921 1456.64 L80.6679 1456.64 L80.6679 1460.57 L50.9921 1460.57 L50.9921 1456.64 Z\" fill=\"#000000\" fill-rule=\"evenodd\" fill-opacity=\"1\" /><path clip-path=\"url(#clip370)\" d=\"M91.5706 1469.53 L99.2095 1469.53 L99.2095 1443.17 L90.8993 1444.83 L90.8993 1440.58 L99.1632 1438.91 L103.839 1438.91 L103.839 1469.53 L111.478 1469.53 L111.478 1473.47 L91.5706 1473.47 L91.5706 1469.53 Z\" fill=\"#000000\" fill-rule=\"evenodd\" fill-opacity=\"1\" /><path clip-path=\"url(#clip370)\" d=\"M120.922 1467.59 L125.807 1467.59 L125.807 1473.47 L120.922 1473.47 L120.922 1467.59 Z\" fill=\"#000000\" fill-rule=\"evenodd\" fill-opacity=\"1\" /><path clip-path=\"url(#clip370)\" d=\"M145.992 1441.99 Q142.381 1441.99 140.552 1445.55 Q138.746 1449.09 138.746 1456.22 Q138.746 1463.33 140.552 1466.89 Q142.381 1470.44 145.992 1470.44 Q149.626 1470.44 151.431 1466.89 Q153.26 1463.33 153.26 1456.22 Q153.26 1449.09 151.431 1445.55 Q149.626 1441.99 145.992 1441.99 M145.992 1438.28 Q151.802 1438.28 154.857 1442.89 Q157.936 1447.47 157.936 1456.22 Q157.936 1464.95 154.857 1469.56 Q151.802 1474.14 145.992 1474.14 Q140.181 1474.14 137.103 1469.56 Q134.047 1464.95 134.047 1456.22 Q134.047 1447.47 137.103 1442.89 Q140.181 1438.28 145.992 1438.28 Z\" fill=\"#000000\" fill-rule=\"evenodd\" fill-opacity=\"1\" /><path clip-path=\"url(#clip370)\" d=\"M51.9875 1111.97 L81.6633 1111.97 L81.6633 1115.9 L51.9875 1115.9 L51.9875 1111.97 Z\" fill=\"#000000\" fill-rule=\"evenodd\" fill-opacity=\"1\" /><path clip-path=\"url(#clip370)\" d=\"M101.756 1097.32 Q98.1447 1097.32 96.316 1100.88 Q94.5104 1104.42 94.5104 1111.55 Q94.5104 1118.66 96.316 1122.22 Q98.1447 1125.76 101.756 1125.76 Q105.39 1125.76 107.196 1122.22 Q109.024 1118.66 109.024 1111.55 Q109.024 1104.42 107.196 1100.88 Q105.39 1097.32 101.756 1097.32 M101.756 1093.61 Q107.566 1093.61 110.621 1098.22 Q113.7 1102.8 113.7 1111.55 Q113.7 1120.28 110.621 1124.89 Q107.566 1129.47 101.756 1129.47 Q95.9456 1129.47 92.8669 1124.89 Q89.8114 1120.28 89.8114 1111.55 Q89.8114 1102.8 92.8669 1098.22 Q95.9456 1093.61 101.756 1093.61 Z\" fill=\"#000000\" fill-rule=\"evenodd\" fill-opacity=\"1\" /><path clip-path=\"url(#clip370)\" d=\"M121.918 1122.92 L126.802 1122.92 L126.802 1128.8 L121.918 1128.8 L121.918 1122.92 Z\" fill=\"#000000\" fill-rule=\"evenodd\" fill-opacity=\"1\" /><path clip-path=\"url(#clip370)\" d=\"M137.033 1094.24 L155.39 1094.24 L155.39 1098.17 L141.316 1098.17 L141.316 1106.64 Q142.334 1106.3 143.353 1106.14 Q144.371 1105.95 145.39 1105.95 Q151.177 1105.95 154.556 1109.12 Q157.936 1112.29 157.936 1117.71 Q157.936 1123.29 154.464 1126.39 Q150.992 1129.47 144.672 1129.47 Q142.496 1129.47 140.228 1129.1 Q137.982 1128.73 135.575 1127.99 L135.575 1123.29 Q137.658 1124.42 139.881 1124.98 Q142.103 1125.53 144.58 1125.53 Q148.584 1125.53 150.922 1123.43 Q153.26 1121.32 153.26 1117.71 Q153.26 1114.1 150.922 1111.99 Q148.584 1109.89 144.58 1109.89 Q142.705 1109.89 140.83 1110.3 Q138.978 1110.72 137.033 1111.6 L137.033 1094.24 Z\" fill=\"#000000\" fill-rule=\"evenodd\" fill-opacity=\"1\" /><path clip-path=\"url(#clip370)\" d=\"M100.76 752.645 Q97.1493 752.645 95.3206 756.209 Q93.515 759.751 93.515 766.881 Q93.515 773.987 95.3206 777.552 Q97.1493 781.094 100.76 781.094 Q104.395 781.094 106.2 777.552 Q108.029 773.987 108.029 766.881 Q108.029 759.751 106.2 756.209 Q104.395 752.645 100.76 752.645 M100.76 748.941 Q106.571 748.941 109.626 753.547 Q112.705 758.131 112.705 766.881 Q112.705 775.608 109.626 780.214 Q106.571 784.797 100.76 784.797 Q94.9502 784.797 91.8715 780.214 Q88.816 775.608 88.816 766.881 Q88.816 758.131 91.8715 753.547 Q94.9502 748.941 100.76 748.941 Z\" fill=\"#000000\" fill-rule=\"evenodd\" fill-opacity=\"1\" /><path clip-path=\"url(#clip370)\" d=\"M120.922 778.246 L125.807 778.246 L125.807 784.126 L120.922 784.126 L120.922 778.246 Z\" fill=\"#000000\" fill-rule=\"evenodd\" fill-opacity=\"1\" /><path clip-path=\"url(#clip370)\" d=\"M145.992 752.645 Q142.381 752.645 140.552 756.209 Q138.746 759.751 138.746 766.881 Q138.746 773.987 140.552 777.552 Q142.381 781.094 145.992 781.094 Q149.626 781.094 151.431 777.552 Q153.26 773.987 153.26 766.881 Q153.26 759.751 151.431 756.209 Q149.626 752.645 145.992 752.645 M145.992 748.941 Q151.802 748.941 154.857 753.547 Q157.936 758.131 157.936 766.881 Q157.936 775.608 154.857 780.214 Q151.802 784.797 145.992 784.797 Q140.181 784.797 137.103 780.214 Q134.047 775.608 134.047 766.881 Q134.047 758.131 137.103 753.547 Q140.181 748.941 145.992 748.941 Z\" fill=\"#000000\" fill-rule=\"evenodd\" fill-opacity=\"1\" /><path clip-path=\"url(#clip370)\" d=\"M101.756 407.973 Q98.1447 407.973 96.316 411.538 Q94.5104 415.08 94.5104 422.21 Q94.5104 429.316 96.316 432.881 Q98.1447 436.422 101.756 436.422 Q105.39 436.422 107.196 432.881 Q109.024 429.316 109.024 422.21 Q109.024 415.08 107.196 411.538 Q105.39 407.973 101.756 407.973 M101.756 404.27 Q107.566 404.27 110.621 408.876 Q113.7 413.46 113.7 422.21 Q113.7 430.936 110.621 435.543 Q107.566 440.126 101.756 440.126 Q95.9456 440.126 92.8669 435.543 Q89.8114 430.936 89.8114 422.21 Q89.8114 413.46 92.8669 408.876 Q95.9456 404.27 101.756 404.27 Z\" fill=\"#000000\" fill-rule=\"evenodd\" fill-opacity=\"1\" /><path clip-path=\"url(#clip370)\" d=\"M121.918 433.575 L126.802 433.575 L126.802 439.455 L121.918 439.455 L121.918 433.575 Z\" fill=\"#000000\" fill-rule=\"evenodd\" fill-opacity=\"1\" /><path clip-path=\"url(#clip370)\" d=\"M137.033 404.895 L155.39 404.895 L155.39 408.83 L141.316 408.83 L141.316 417.302 Q142.334 416.955 143.353 416.793 Q144.371 416.608 145.39 416.608 Q151.177 416.608 154.556 419.779 Q157.936 422.95 157.936 428.367 Q157.936 433.946 154.464 437.047 Q150.992 440.126 144.672 440.126 Q142.496 440.126 140.228 439.756 Q137.982 439.385 135.575 438.645 L135.575 433.946 Q137.658 435.08 139.881 435.635 Q142.103 436.191 144.58 436.191 Q148.584 436.191 150.922 434.084 Q153.26 431.978 153.26 428.367 Q153.26 424.756 150.922 422.649 Q148.584 420.543 144.58 420.543 Q142.705 420.543 140.83 420.96 Q138.978 421.376 137.033 422.256 L137.033 404.895 Z\" fill=\"#000000\" fill-rule=\"evenodd\" fill-opacity=\"1\" /><path clip-path=\"url(#clip370)\" d=\"M91.5706 90.8485 L99.2095 90.8485 L99.2095 64.4829 L90.8993 66.1495 L90.8993 61.8903 L99.1632 60.2236 L103.839 60.2236 L103.839 90.8485 L111.478 90.8485 L111.478 94.7836 L91.5706 94.7836 L91.5706 90.8485 Z\" fill=\"#000000\" fill-rule=\"evenodd\" fill-opacity=\"1\" /><path clip-path=\"url(#clip370)\" d=\"M120.922 88.904 L125.807 88.904 L125.807 94.7836 L120.922 94.7836 L120.922 88.904 Z\" fill=\"#000000\" fill-rule=\"evenodd\" fill-opacity=\"1\" /><path clip-path=\"url(#clip370)\" d=\"M145.992 63.3023 Q142.381 63.3023 140.552 66.8671 Q138.746 70.4087 138.746 77.5383 Q138.746 84.6448 140.552 88.2096 Q142.381 91.7512 145.992 91.7512 Q149.626 91.7512 151.431 88.2096 Q153.26 84.6448 153.26 77.5383 Q153.26 70.4087 151.431 66.8671 Q149.626 63.3023 145.992 63.3023 M145.992 59.5986 Q151.802 59.5986 154.857 64.2051 Q157.936 68.7884 157.936 77.5383 Q157.936 86.2651 154.857 90.8716 Q151.802 95.4549 145.992 95.4549 Q140.181 95.4549 137.103 90.8716 Q134.047 86.2651 134.047 77.5383 Q134.047 68.7884 137.103 64.2051 Q140.181 59.5986 145.992 59.5986 Z\" fill=\"#000000\" fill-rule=\"evenodd\" fill-opacity=\"1\" /><polyline clip-path=\"url(#clip372)\" style=\"stroke:#009af9; stroke-linecap:butt; stroke-linejoin:round; stroke-width:4; stroke-opacity:1; fill:none\" points=\"\n",
       "  255.035,766.846 481.326,1209.95 707.617,1445.72 933.909,1363.83 1160.2,1002.61 1386.49,531.077 1612.78,169.858 1839.07,87.9763 2065.37,323.745 2291.66,766.846 \n",
       "  \n",
       "  \"/>\n",
       "<path clip-path=\"url(#clip370)\" d=\"\n",
       "M1988.5 198.898 L2280.8 198.898 L2280.8 95.2176 L1988.5 95.2176  Z\n",
       "  \" fill=\"#ffffff\" fill-rule=\"evenodd\" fill-opacity=\"1\"/>\n",
       "<polyline clip-path=\"url(#clip370)\" style=\"stroke:#000000; stroke-linecap:butt; stroke-linejoin:round; stroke-width:4; stroke-opacity:1; fill:none\" points=\"\n",
       "  1988.5,198.898 2280.8,198.898 2280.8,95.2176 1988.5,95.2176 1988.5,198.898 \n",
       "  \"/>\n",
       "<polyline clip-path=\"url(#clip370)\" style=\"stroke:#009af9; stroke-linecap:butt; stroke-linejoin:round; stroke-width:4; stroke-opacity:1; fill:none\" points=\"\n",
       "  2012.48,147.058 2156.4,147.058 \n",
       "  \"/>\n",
       "<path clip-path=\"url(#clip370)\" d=\"M2194.23 166.745 Q2192.43 171.375 2190.72 172.787 Q2189 174.199 2186.13 174.199 L2182.73 174.199 L2182.73 170.634 L2185.23 170.634 Q2186.99 170.634 2187.96 169.8 Q2188.93 168.967 2190.11 165.865 L2190.88 163.921 L2180.39 138.412 L2184.91 138.412 L2193.01 158.689 L2201.11 138.412 L2205.62 138.412 L2194.23 166.745 Z\" fill=\"#000000\" fill-rule=\"evenodd\" fill-opacity=\"1\" /><path clip-path=\"url(#clip370)\" d=\"M2212.91 160.402 L2220.55 160.402 L2220.55 134.037 L2212.24 135.703 L2212.24 131.444 L2220.51 129.778 L2225.18 129.778 L2225.18 160.402 L2232.82 160.402 L2232.82 164.338 L2212.91 164.338 L2212.91 160.402 Z\" fill=\"#000000\" fill-rule=\"evenodd\" fill-opacity=\"1\" /></svg>\n"
      ]
     },
     "metadata": {},
     "output_type": "display_data"
    }
   ],
   "source": [
    "xx = LinRange(0, 2π, 10)\n",
    "plot(xx, dercos.(xx))"
   ]
  },
  {
   "cell_type": "markdown",
   "metadata": {},
   "source": [
    "### Test power output"
   ]
  },
  {
   "cell_type": "code",
   "execution_count": 9,
   "metadata": {},
   "outputs": [
    {
     "name": "stdout",
     "output_type": "stream",
     "text": [
      "P = 1.158348522057697e37\n",
      "P = 1.2681589355246427e33"
     ]
    }
   ],
   "source": [
    "print(\"P = \" * string(powerout(6, ϕinput, scattpos, alphas, ω, J; normalized=false)[1]))\n",
    "print(\"\\nP = \" * string(powerout(6, ϕinput, scattpos, alphas, ω, J; normalized=true)[1]))"
   ]
  },
  {
   "cell_type": "code",
   "execution_count": 10,
   "metadata": {},
   "outputs": [
    {
     "name": "stdout",
     "output_type": "stream",
     "text": [
      "P = 1.158348522057697e37\n",
      "P = 1.4958073693805817e37"
     ]
    },
    {
     "name": "stdout",
     "output_type": "stream",
     "text": [
      "\n",
      "P = 2.9514790517935283e20"
     ]
    }
   ],
   "source": [
    "print(\"P = \" * string(powerout(6, ϕinput, scattpos, alphas, ω, J)[1]))\n",
    "print(\"\\nP = \" * string(poweroutexplicit(6, ϕinput, scattpos, alphas, ω, J)[1]))\n",
    "print(\"\\nP = \" * string(evalsumm(2, ϕinput, scattpos, alphas, ω, J)))"
   ]
  },
  {
   "cell_type": "code",
   "execution_count": 5,
   "metadata": {},
   "outputs": [
    {
     "name": "stdout",
     "output_type": "stream",
     "text": [
      "ComplexF64[0.0 - 0.012665147955292222im -0.012665147955292222 + 3.1020666009924618e-18im; -0.012665147955292222 + 3.1020666009924618e-18im -0.0 + 0.012665147955292222im]\n",
      "ComplexF64"
     ]
    },
    {
     "name": "stdout",
     "output_type": "stream",
     "text": [
      "[0.0 + 78.95683520871486im, -0.0 - 78.95683520871486im]\n",
      "ComplexF64[1.0216084176397266e17 + 4.68826889307241e15im, 4.688268893072426e15 - 1.0216084176397272e17im]\n"
     ]
    }
   ],
   "source": [
    "println(intmatrix(scattpos, alphas, ω, J));\n",
    "println(alphas);\n",
    "println(incfield(ϕinput, scattpos, alphas, ω, J));"
   ]
  },
  {
   "cell_type": "markdown",
   "metadata": {},
   "source": [
    "### Test 1/4pi Green's function"
   ]
  },
  {
   "cell_type": "code",
   "execution_count": 21,
   "metadata": {},
   "outputs": [
    {
     "data": {
      "text/plain": [
       "1.0000000000000653"
      ]
     },
     "metadata": {},
     "output_type": "display_data"
    }
   ],
   "source": [
    "powerout(2, ϕinput, scattpos, alphas, ω, J)[1] * 4π"
   ]
  },
  {
   "cell_type": "code",
   "execution_count": 22,
   "metadata": {},
   "outputs": [
    {
     "data": {
      "text/plain": [
       "1.000000000000065"
      ]
     },
     "metadata": {},
     "output_type": "display_data"
    }
   ],
   "source": [
    "poweroutexplicit(2, ϕinput, scattpos, alphas, ω, J)[1] * 4π"
   ]
  },
  {
   "cell_type": "markdown",
   "metadata": {},
   "source": [
    "### Test gradient"
   ]
  },
  {
   "cell_type": "code",
   "execution_count": 3,
   "metadata": {},
   "outputs": [
    {
     "data": {
      "text/plain": [
       "g (generic function with 1 method)"
      ]
     },
     "execution_count": 3,
     "metadata": {},
     "output_type": "execute_result"
    }
   ],
   "source": [
    "xx = LinRange(0, 10, 20)\n",
    "f(x) = sin(x[1]) + cos(x[2])\n",
    "g(x) = ForwardDiff.gradient(f, x)"
   ]
  },
  {
   "cell_type": "code",
   "execution_count": 13,
   "metadata": {},
   "outputs": [],
   "source": [
    "yy = zeros(20)\n",
    "yy2 = zeros(20)\n",
    "\n",
    "for i in 1:20\n",
    "    yy[i] = f([0, xx[i]])\n",
    "    yy2[i] = g([0, xx[i]])[2]\n",
    "end"
   ]
  },
  {
   "cell_type": "code",
   "execution_count": 14,
   "metadata": {},
   "outputs": [
    {
     "data": {
      "image/svg+xml": "<?xml version=\"1.0\" encoding=\"utf-8\"?>\n<svg xmlns=\"http://www.w3.org/2000/svg\" xmlns:xlink=\"http://www.w3.org/1999/xlink\" width=\"600\" height=\"400\" viewBox=\"0 0 2400 1600\">\n<defs>\n  <clipPath id=\"clip030\">\n    <rect x=\"0\" y=\"0\" width=\"2400\" height=\"1600\"/>\n  </clipPath>\n</defs>\n<path clip-path=\"url(#clip030)\" d=\"\nM0 1600 L2400 1600 L2400 0 L0 0  Z\n  \" fill=\"#ffffff\" fill-rule=\"evenodd\" fill-opacity=\"1\"/>\n<defs>\n  <clipPath id=\"clip031\">\n    <rect x=\"480\" y=\"0\" width=\"1681\" height=\"1600\"/>\n  </clipPath>\n</defs>\n<path clip-path=\"url(#clip030)\" d=\"\nM193.936 1486.45 L2352.76 1486.45 L2352.76 47.2441 L193.936 47.2441  Z\n  \" fill=\"#ffffff\" fill-rule=\"evenodd\" fill-opacity=\"1\"/>\n<defs>\n  <clipPath id=\"clip032\">\n    <rect x=\"193\" y=\"47\" width=\"2160\" height=\"1440\"/>\n  </clipPath>\n</defs>\n<polyline clip-path=\"url(#clip032)\" style=\"stroke:#000000; stroke-linecap:butt; stroke-linejoin:round; stroke-width:2; stroke-opacity:0.1; fill:none\" points=\"\n  255.035,1486.45 255.035,47.2441 \n  \"/>\n<polyline clip-path=\"url(#clip032)\" style=\"stroke:#000000; stroke-linecap:butt; stroke-linejoin:round; stroke-width:2; stroke-opacity:0.1; fill:none\" points=\"\n  764.19,1486.45 764.19,47.2441 \n  \"/>\n<polyline clip-path=\"url(#clip032)\" style=\"stroke:#000000; stroke-linecap:butt; stroke-linejoin:round; stroke-width:2; stroke-opacity:0.1; fill:none\" points=\"\n  1273.35,1486.45 1273.35,47.2441 \n  \"/>\n<polyline clip-path=\"url(#clip032)\" style=\"stroke:#000000; stroke-linecap:butt; stroke-linejoin:round; stroke-width:2; stroke-opacity:0.1; fill:none\" points=\"\n  1782.5,1486.45 1782.5,47.2441 \n  \"/>\n<polyline clip-path=\"url(#clip032)\" style=\"stroke:#000000; stroke-linecap:butt; stroke-linejoin:round; stroke-width:2; stroke-opacity:0.1; fill:none\" points=\"\n  2291.66,1486.45 2291.66,47.2441 \n  \"/>\n<polyline clip-path=\"url(#clip030)\" style=\"stroke:#000000; stroke-linecap:butt; stroke-linejoin:round; stroke-width:4; stroke-opacity:1; fill:none\" points=\"\n  193.936,1486.45 2352.76,1486.45 \n  \"/>\n<polyline clip-path=\"url(#clip030)\" style=\"stroke:#000000; stroke-linecap:butt; stroke-linejoin:round; stroke-width:4; stroke-opacity:1; fill:none\" points=\"\n  255.035,1486.45 255.035,1467.55 \n  \"/>\n<polyline clip-path=\"url(#clip030)\" style=\"stroke:#000000; stroke-linecap:butt; stroke-linejoin:round; stroke-width:4; stroke-opacity:1; fill:none\" points=\"\n  764.19,1486.45 764.19,1467.55 \n  \"/>\n<polyline clip-path=\"url(#clip030)\" style=\"stroke:#000000; stroke-linecap:butt; stroke-linejoin:round; stroke-width:4; stroke-opacity:1; fill:none\" points=\"\n  1273.35,1486.45 1273.35,1467.55 \n  \"/>\n<polyline clip-path=\"url(#clip030)\" style=\"stroke:#000000; stroke-linecap:butt; stroke-linejoin:round; stroke-width:4; stroke-opacity:1; fill:none\" points=\"\n  1782.5,1486.45 1782.5,1467.55 \n  \"/>\n<polyline clip-path=\"url(#clip030)\" style=\"stroke:#000000; stroke-linecap:butt; stroke-linejoin:round; stroke-width:4; stroke-opacity:1; fill:none\" points=\"\n  2291.66,1486.45 2291.66,1467.55 \n  \"/>\n<path clip-path=\"url(#clip030)\" d=\"M232.419 1517.37 Q228.808 1517.37 226.979 1520.93 Q225.174 1524.47 225.174 1531.6 Q225.174 1538.71 226.979 1542.27 Q228.808 1545.82 232.419 1545.82 Q236.053 1545.82 237.859 1542.27 Q239.688 1538.71 239.688 1531.6 Q239.688 1524.47 237.859 1520.93 Q236.053 1517.37 232.419 1517.37 M232.419 1513.66 Q238.229 1513.66 241.285 1518.27 Q244.363 1522.85 244.363 1531.6 Q244.363 1540.33 241.285 1544.94 Q238.229 1549.52 232.419 1549.52 Q226.609 1549.52 223.53 1544.94 Q220.475 1540.33 220.475 1531.6 Q220.475 1522.85 223.53 1518.27 Q226.609 1513.66 232.419 1513.66 Z\" fill=\"#000000\" fill-rule=\"evenodd\" fill-opacity=\"1\" /><path clip-path=\"url(#clip030)\" d=\"M252.581 1542.97 L257.465 1542.97 L257.465 1548.85 L252.581 1548.85 L252.581 1542.97 Z\" fill=\"#000000\" fill-rule=\"evenodd\" fill-opacity=\"1\" /><path clip-path=\"url(#clip030)\" d=\"M277.65 1517.37 Q274.039 1517.37 272.211 1520.93 Q270.405 1524.47 270.405 1531.6 Q270.405 1538.71 272.211 1542.27 Q274.039 1545.82 277.65 1545.82 Q281.285 1545.82 283.09 1542.27 Q284.919 1538.71 284.919 1531.6 Q284.919 1524.47 283.09 1520.93 Q281.285 1517.37 277.65 1517.37 M277.65 1513.66 Q283.46 1513.66 286.516 1518.27 Q289.595 1522.85 289.595 1531.6 Q289.595 1540.33 286.516 1544.94 Q283.46 1549.52 277.65 1549.52 Q271.84 1549.52 268.761 1544.94 Q265.706 1540.33 265.706 1531.6 Q265.706 1522.85 268.761 1518.27 Q271.84 1513.66 277.65 1513.66 Z\" fill=\"#000000\" fill-rule=\"evenodd\" fill-opacity=\"1\" /><path clip-path=\"url(#clip030)\" d=\"M735.927 1544.91 L752.246 1544.91 L752.246 1548.85 L730.302 1548.85 L730.302 1544.91 Q732.964 1542.16 737.547 1537.53 Q742.153 1532.88 743.334 1531.53 Q745.579 1529.01 746.459 1527.27 Q747.362 1525.51 747.362 1523.82 Q747.362 1521.07 745.417 1519.33 Q743.496 1517.6 740.394 1517.6 Q738.195 1517.6 735.741 1518.36 Q733.311 1519.13 730.533 1520.68 L730.533 1515.95 Q733.357 1514.82 735.811 1514.24 Q738.265 1513.66 740.302 1513.66 Q745.672 1513.66 748.866 1516.35 Q752.061 1519.03 752.061 1523.52 Q752.061 1525.65 751.251 1527.57 Q750.464 1529.47 748.357 1532.07 Q747.778 1532.74 744.677 1535.95 Q741.575 1539.15 735.927 1544.91 Z\" fill=\"#000000\" fill-rule=\"evenodd\" fill-opacity=\"1\" /><path clip-path=\"url(#clip030)\" d=\"M762.061 1542.97 L766.945 1542.97 L766.945 1548.85 L762.061 1548.85 L762.061 1542.97 Z\" fill=\"#000000\" fill-rule=\"evenodd\" fill-opacity=\"1\" /><path clip-path=\"url(#clip030)\" d=\"M777.176 1514.29 L795.533 1514.29 L795.533 1518.22 L781.459 1518.22 L781.459 1526.7 Q782.477 1526.35 783.496 1526.19 Q784.514 1526 785.533 1526 Q791.32 1526 794.699 1529.17 Q798.079 1532.34 798.079 1537.76 Q798.079 1543.34 794.607 1546.44 Q791.135 1549.52 784.815 1549.52 Q782.639 1549.52 780.371 1549.15 Q778.125 1548.78 775.718 1548.04 L775.718 1543.34 Q777.801 1544.47 780.024 1545.03 Q782.246 1545.58 784.723 1545.58 Q788.727 1545.58 791.065 1543.48 Q793.403 1541.37 793.403 1537.76 Q793.403 1534.15 791.065 1532.04 Q788.727 1529.94 784.723 1529.94 Q782.848 1529.94 780.973 1530.35 Q779.121 1530.77 777.176 1531.65 L777.176 1514.29 Z\" fill=\"#000000\" fill-rule=\"evenodd\" fill-opacity=\"1\" /><path clip-path=\"url(#clip030)\" d=\"M1240.51 1514.29 L1258.87 1514.29 L1258.87 1518.22 L1244.79 1518.22 L1244.79 1526.7 Q1245.81 1526.35 1246.83 1526.19 Q1247.85 1526 1248.87 1526 Q1254.65 1526 1258.03 1529.17 Q1261.41 1532.34 1261.41 1537.76 Q1261.41 1543.34 1257.94 1546.44 Q1254.47 1549.52 1248.15 1549.52 Q1245.97 1549.52 1243.7 1549.15 Q1241.46 1548.78 1239.05 1548.04 L1239.05 1543.34 Q1241.14 1544.47 1243.36 1545.03 Q1245.58 1545.58 1248.06 1545.58 Q1252.06 1545.58 1254.4 1543.48 Q1256.74 1541.37 1256.74 1537.76 Q1256.74 1534.15 1254.4 1532.04 Q1252.06 1529.94 1248.06 1529.94 Q1246.18 1529.94 1244.31 1530.35 Q1242.45 1530.77 1240.51 1531.65 L1240.51 1514.29 Z\" fill=\"#000000\" fill-rule=\"evenodd\" fill-opacity=\"1\" /><path clip-path=\"url(#clip030)\" d=\"M1270.63 1542.97 L1275.51 1542.97 L1275.51 1548.85 L1270.63 1548.85 L1270.63 1542.97 Z\" fill=\"#000000\" fill-rule=\"evenodd\" fill-opacity=\"1\" /><path clip-path=\"url(#clip030)\" d=\"M1295.7 1517.37 Q1292.08 1517.37 1290.26 1520.93 Q1288.45 1524.47 1288.45 1531.6 Q1288.45 1538.71 1290.26 1542.27 Q1292.08 1545.82 1295.7 1545.82 Q1299.33 1545.82 1301.14 1542.27 Q1302.96 1538.71 1302.96 1531.6 Q1302.96 1524.47 1301.14 1520.93 Q1299.33 1517.37 1295.7 1517.37 M1295.7 1513.66 Q1301.51 1513.66 1304.56 1518.27 Q1307.64 1522.85 1307.64 1531.6 Q1307.64 1540.33 1304.56 1544.94 Q1301.51 1549.52 1295.7 1549.52 Q1289.89 1549.52 1286.81 1544.94 Q1283.75 1540.33 1283.75 1531.6 Q1283.75 1522.85 1286.81 1518.27 Q1289.89 1513.66 1295.7 1513.66 Z\" fill=\"#000000\" fill-rule=\"evenodd\" fill-opacity=\"1\" /><path clip-path=\"url(#clip030)\" d=\"M1748.82 1514.29 L1771.04 1514.29 L1771.04 1516.28 L1758.5 1548.85 L1753.61 1548.85 L1765.42 1518.22 L1748.82 1518.22 L1748.82 1514.29 Z\" fill=\"#000000\" fill-rule=\"evenodd\" fill-opacity=\"1\" /><path clip-path=\"url(#clip030)\" d=\"M1780.16 1542.97 L1785.05 1542.97 L1785.05 1548.85 L1780.16 1548.85 L1780.16 1542.97 Z\" fill=\"#000000\" fill-rule=\"evenodd\" fill-opacity=\"1\" /><path clip-path=\"url(#clip030)\" d=\"M1795.28 1514.29 L1813.64 1514.29 L1813.64 1518.22 L1799.56 1518.22 L1799.56 1526.7 Q1800.58 1526.35 1801.6 1526.19 Q1802.62 1526 1803.64 1526 Q1809.42 1526 1812.8 1529.17 Q1816.18 1532.34 1816.18 1537.76 Q1816.18 1543.34 1812.71 1546.44 Q1809.24 1549.52 1802.92 1549.52 Q1800.74 1549.52 1798.47 1549.15 Q1796.23 1548.78 1793.82 1548.04 L1793.82 1543.34 Q1795.9 1544.47 1798.13 1545.03 Q1800.35 1545.58 1802.83 1545.58 Q1806.83 1545.58 1809.17 1543.48 Q1811.51 1541.37 1811.51 1537.76 Q1811.51 1534.15 1809.17 1532.04 Q1806.83 1529.94 1802.83 1529.94 Q1800.95 1529.94 1799.08 1530.35 Q1797.22 1530.77 1795.28 1531.65 L1795.28 1514.29 Z\" fill=\"#000000\" fill-rule=\"evenodd\" fill-opacity=\"1\" /><path clip-path=\"url(#clip030)\" d=\"M2243.73 1544.91 L2251.37 1544.91 L2251.37 1518.55 L2243.06 1520.21 L2243.06 1515.95 L2251.32 1514.29 L2256 1514.29 L2256 1544.91 L2263.64 1544.91 L2263.64 1548.85 L2243.73 1548.85 L2243.73 1544.91 Z\" fill=\"#000000\" fill-rule=\"evenodd\" fill-opacity=\"1\" /><path clip-path=\"url(#clip030)\" d=\"M2283.08 1517.37 Q2279.47 1517.37 2277.64 1520.93 Q2275.84 1524.47 2275.84 1531.6 Q2275.84 1538.71 2277.64 1542.27 Q2279.47 1545.82 2283.08 1545.82 Q2286.72 1545.82 2288.52 1542.27 Q2290.35 1538.71 2290.35 1531.6 Q2290.35 1524.47 2288.52 1520.93 Q2286.72 1517.37 2283.08 1517.37 M2283.08 1513.66 Q2288.89 1513.66 2291.95 1518.27 Q2295.03 1522.85 2295.03 1531.6 Q2295.03 1540.33 2291.95 1544.94 Q2288.89 1549.52 2283.08 1549.52 Q2277.27 1549.52 2274.19 1544.94 Q2271.14 1540.33 2271.14 1531.6 Q2271.14 1522.85 2274.19 1518.27 Q2277.27 1513.66 2283.08 1513.66 Z\" fill=\"#000000\" fill-rule=\"evenodd\" fill-opacity=\"1\" /><path clip-path=\"url(#clip030)\" d=\"M2303.24 1542.97 L2308.13 1542.97 L2308.13 1548.85 L2303.24 1548.85 L2303.24 1542.97 Z\" fill=\"#000000\" fill-rule=\"evenodd\" fill-opacity=\"1\" /><path clip-path=\"url(#clip030)\" d=\"M2328.31 1517.37 Q2324.7 1517.37 2322.87 1520.93 Q2321.07 1524.47 2321.07 1531.6 Q2321.07 1538.71 2322.87 1542.27 Q2324.7 1545.82 2328.31 1545.82 Q2331.95 1545.82 2333.75 1542.27 Q2335.58 1538.71 2335.58 1531.6 Q2335.58 1524.47 2333.75 1520.93 Q2331.95 1517.37 2328.31 1517.37 M2328.31 1513.66 Q2334.12 1513.66 2337.18 1518.27 Q2340.26 1522.85 2340.26 1531.6 Q2340.26 1540.33 2337.18 1544.94 Q2334.12 1549.52 2328.31 1549.52 Q2322.5 1549.52 2319.42 1544.94 Q2316.37 1540.33 2316.37 1531.6 Q2316.37 1522.85 2319.42 1518.27 Q2322.5 1513.66 2328.31 1513.66 Z\" fill=\"#000000\" fill-rule=\"evenodd\" fill-opacity=\"1\" /><polyline clip-path=\"url(#clip032)\" style=\"stroke:#000000; stroke-linecap:butt; stroke-linejoin:round; stroke-width:2; stroke-opacity:0.1; fill:none\" points=\"\n  193.936,1445.74 2352.76,1445.74 \n  \"/>\n<polyline clip-path=\"url(#clip032)\" style=\"stroke:#000000; stroke-linecap:butt; stroke-linejoin:round; stroke-width:2; stroke-opacity:0.1; fill:none\" points=\"\n  193.936,1106.3 2352.76,1106.3 \n  \"/>\n<polyline clip-path=\"url(#clip032)\" style=\"stroke:#000000; stroke-linecap:butt; stroke-linejoin:round; stroke-width:2; stroke-opacity:0.1; fill:none\" points=\"\n  193.936,766.857 2352.76,766.857 \n  \"/>\n<polyline clip-path=\"url(#clip032)\" style=\"stroke:#000000; stroke-linecap:butt; stroke-linejoin:round; stroke-width:2; stroke-opacity:0.1; fill:none\" points=\"\n  193.936,427.417 2352.76,427.417 \n  \"/>\n<polyline clip-path=\"url(#clip032)\" style=\"stroke:#000000; stroke-linecap:butt; stroke-linejoin:round; stroke-width:2; stroke-opacity:0.1; fill:none\" points=\"\n  193.936,87.9763 2352.76,87.9763 \n  \"/>\n<polyline clip-path=\"url(#clip030)\" style=\"stroke:#000000; stroke-linecap:butt; stroke-linejoin:round; stroke-width:4; stroke-opacity:1; fill:none\" points=\"\n  193.936,1486.45 193.936,47.2441 \n  \"/>\n<polyline clip-path=\"url(#clip030)\" style=\"stroke:#000000; stroke-linecap:butt; stroke-linejoin:round; stroke-width:4; stroke-opacity:1; fill:none\" points=\"\n  193.936,1445.74 212.834,1445.74 \n  \"/>\n<polyline clip-path=\"url(#clip030)\" style=\"stroke:#000000; stroke-linecap:butt; stroke-linejoin:round; stroke-width:4; stroke-opacity:1; fill:none\" points=\"\n  193.936,1106.3 212.834,1106.3 \n  \"/>\n<polyline clip-path=\"url(#clip030)\" style=\"stroke:#000000; stroke-linecap:butt; stroke-linejoin:round; stroke-width:4; stroke-opacity:1; fill:none\" points=\"\n  193.936,766.857 212.834,766.857 \n  \"/>\n<polyline clip-path=\"url(#clip030)\" style=\"stroke:#000000; stroke-linecap:butt; stroke-linejoin:round; stroke-width:4; stroke-opacity:1; fill:none\" points=\"\n  193.936,427.417 212.834,427.417 \n  \"/>\n<polyline clip-path=\"url(#clip030)\" style=\"stroke:#000000; stroke-linecap:butt; stroke-linejoin:round; stroke-width:4; stroke-opacity:1; fill:none\" points=\"\n  193.936,87.9763 212.834,87.9763 \n  \"/>\n<path clip-path=\"url(#clip030)\" d=\"M50.9921 1446.19 L80.6679 1446.19 L80.6679 1450.12 L50.9921 1450.12 L50.9921 1446.19 Z\" fill=\"#000000\" fill-rule=\"evenodd\" fill-opacity=\"1\" /><path clip-path=\"url(#clip030)\" d=\"M91.5706 1459.08 L99.2095 1459.08 L99.2095 1432.72 L90.8993 1434.38 L90.8993 1430.12 L99.1632 1428.46 L103.839 1428.46 L103.839 1459.08 L111.478 1459.08 L111.478 1463.02 L91.5706 1463.02 L91.5706 1459.08 Z\" fill=\"#000000\" fill-rule=\"evenodd\" fill-opacity=\"1\" /><path clip-path=\"url(#clip030)\" d=\"M120.922 1457.14 L125.807 1457.14 L125.807 1463.02 L120.922 1463.02 L120.922 1457.14 Z\" fill=\"#000000\" fill-rule=\"evenodd\" fill-opacity=\"1\" /><path clip-path=\"url(#clip030)\" d=\"M145.992 1431.54 Q142.381 1431.54 140.552 1435.1 Q138.746 1438.64 138.746 1445.77 Q138.746 1452.88 140.552 1456.44 Q142.381 1459.99 145.992 1459.99 Q149.626 1459.99 151.431 1456.44 Q153.26 1452.88 153.26 1445.77 Q153.26 1438.64 151.431 1435.1 Q149.626 1431.54 145.992 1431.54 M145.992 1427.83 Q151.802 1427.83 154.857 1432.44 Q157.936 1437.02 157.936 1445.77 Q157.936 1454.5 154.857 1459.11 Q151.802 1463.69 145.992 1463.69 Q140.181 1463.69 137.103 1459.11 Q134.047 1454.5 134.047 1445.77 Q134.047 1437.02 137.103 1432.44 Q140.181 1427.83 145.992 1427.83 Z\" fill=\"#000000\" fill-rule=\"evenodd\" fill-opacity=\"1\" /><path clip-path=\"url(#clip030)\" d=\"M51.9875 1106.75 L81.6633 1106.75 L81.6633 1110.68 L51.9875 1110.68 L51.9875 1106.75 Z\" fill=\"#000000\" fill-rule=\"evenodd\" fill-opacity=\"1\" /><path clip-path=\"url(#clip030)\" d=\"M101.756 1092.1 Q98.1447 1092.1 96.316 1095.66 Q94.5104 1099.2 94.5104 1106.33 Q94.5104 1113.44 96.316 1117 Q98.1447 1120.55 101.756 1120.55 Q105.39 1120.55 107.196 1117 Q109.024 1113.44 109.024 1106.33 Q109.024 1099.2 107.196 1095.66 Q105.39 1092.1 101.756 1092.1 M101.756 1088.39 Q107.566 1088.39 110.621 1093 Q113.7 1097.58 113.7 1106.33 Q113.7 1115.06 110.621 1119.67 Q107.566 1124.25 101.756 1124.25 Q95.9456 1124.25 92.8669 1119.67 Q89.8114 1115.06 89.8114 1106.33 Q89.8114 1097.58 92.8669 1093 Q95.9456 1088.39 101.756 1088.39 Z\" fill=\"#000000\" fill-rule=\"evenodd\" fill-opacity=\"1\" /><path clip-path=\"url(#clip030)\" d=\"M121.918 1117.7 L126.802 1117.7 L126.802 1123.58 L121.918 1123.58 L121.918 1117.7 Z\" fill=\"#000000\" fill-rule=\"evenodd\" fill-opacity=\"1\" /><path clip-path=\"url(#clip030)\" d=\"M137.033 1089.02 L155.39 1089.02 L155.39 1092.95 L141.316 1092.95 L141.316 1101.43 Q142.334 1101.08 143.353 1100.92 Q144.371 1100.73 145.39 1100.73 Q151.177 1100.73 154.556 1103.9 Q157.936 1107.07 157.936 1112.49 Q157.936 1118.07 154.464 1121.17 Q150.992 1124.25 144.672 1124.25 Q142.496 1124.25 140.228 1123.88 Q137.982 1123.51 135.575 1122.77 L135.575 1118.07 Q137.658 1119.2 139.881 1119.76 Q142.103 1120.31 144.58 1120.31 Q148.584 1120.31 150.922 1118.21 Q153.26 1116.1 153.26 1112.49 Q153.26 1108.88 150.922 1106.77 Q148.584 1104.67 144.58 1104.67 Q142.705 1104.67 140.83 1105.08 Q138.978 1105.5 137.033 1106.38 L137.033 1089.02 Z\" fill=\"#000000\" fill-rule=\"evenodd\" fill-opacity=\"1\" /><path clip-path=\"url(#clip030)\" d=\"M100.76 752.656 Q97.1493 752.656 95.3206 756.221 Q93.515 759.762 93.515 766.892 Q93.515 773.998 95.3206 777.563 Q97.1493 781.105 100.76 781.105 Q104.395 781.105 106.2 777.563 Q108.029 773.998 108.029 766.892 Q108.029 759.762 106.2 756.221 Q104.395 752.656 100.76 752.656 M100.76 748.952 Q106.571 748.952 109.626 753.559 Q112.705 758.142 112.705 766.892 Q112.705 775.619 109.626 780.225 Q106.571 784.809 100.76 784.809 Q94.9502 784.809 91.8715 780.225 Q88.816 775.619 88.816 766.892 Q88.816 758.142 91.8715 753.559 Q94.9502 748.952 100.76 748.952 Z\" fill=\"#000000\" fill-rule=\"evenodd\" fill-opacity=\"1\" /><path clip-path=\"url(#clip030)\" d=\"M120.922 778.258 L125.807 778.258 L125.807 784.137 L120.922 784.137 L120.922 778.258 Z\" fill=\"#000000\" fill-rule=\"evenodd\" fill-opacity=\"1\" /><path clip-path=\"url(#clip030)\" d=\"M145.992 752.656 Q142.381 752.656 140.552 756.221 Q138.746 759.762 138.746 766.892 Q138.746 773.998 140.552 777.563 Q142.381 781.105 145.992 781.105 Q149.626 781.105 151.431 777.563 Q153.26 773.998 153.26 766.892 Q153.26 759.762 151.431 756.221 Q149.626 752.656 145.992 752.656 M145.992 748.952 Q151.802 748.952 154.857 753.559 Q157.936 758.142 157.936 766.892 Q157.936 775.619 154.857 780.225 Q151.802 784.809 145.992 784.809 Q140.181 784.809 137.103 780.225 Q134.047 775.619 134.047 766.892 Q134.047 758.142 137.103 753.559 Q140.181 748.952 145.992 748.952 Z\" fill=\"#000000\" fill-rule=\"evenodd\" fill-opacity=\"1\" /><path clip-path=\"url(#clip030)\" d=\"M101.756 413.215 Q98.1447 413.215 96.316 416.78 Q94.5104 420.322 94.5104 427.451 Q94.5104 434.558 96.316 438.123 Q98.1447 441.664 101.756 441.664 Q105.39 441.664 107.196 438.123 Q109.024 434.558 109.024 427.451 Q109.024 420.322 107.196 416.78 Q105.39 413.215 101.756 413.215 M101.756 409.512 Q107.566 409.512 110.621 414.118 Q113.7 418.702 113.7 427.451 Q113.7 436.178 110.621 440.785 Q107.566 445.368 101.756 445.368 Q95.9456 445.368 92.8669 440.785 Q89.8114 436.178 89.8114 427.451 Q89.8114 418.702 92.8669 414.118 Q95.9456 409.512 101.756 409.512 Z\" fill=\"#000000\" fill-rule=\"evenodd\" fill-opacity=\"1\" /><path clip-path=\"url(#clip030)\" d=\"M121.918 438.817 L126.802 438.817 L126.802 444.697 L121.918 444.697 L121.918 438.817 Z\" fill=\"#000000\" fill-rule=\"evenodd\" fill-opacity=\"1\" /><path clip-path=\"url(#clip030)\" d=\"M137.033 410.137 L155.39 410.137 L155.39 414.072 L141.316 414.072 L141.316 422.544 Q142.334 422.197 143.353 422.035 Q144.371 421.85 145.39 421.85 Q151.177 421.85 154.556 425.021 Q157.936 428.192 157.936 433.609 Q157.936 439.188 154.464 442.289 Q150.992 445.368 144.672 445.368 Q142.496 445.368 140.228 444.998 Q137.982 444.627 135.575 443.887 L135.575 439.188 Q137.658 440.322 139.881 440.877 Q142.103 441.433 144.58 441.433 Q148.584 441.433 150.922 439.326 Q153.26 437.22 153.26 433.609 Q153.26 429.998 150.922 427.891 Q148.584 425.785 144.58 425.785 Q142.705 425.785 140.83 426.201 Q138.978 426.618 137.033 427.498 L137.033 410.137 Z\" fill=\"#000000\" fill-rule=\"evenodd\" fill-opacity=\"1\" /><path clip-path=\"url(#clip030)\" d=\"M91.5706 101.321 L99.2095 101.321 L99.2095 74.9555 L90.8993 76.6222 L90.8993 72.3629 L99.1632 70.6963 L103.839 70.6963 L103.839 101.321 L111.478 101.321 L111.478 105.256 L91.5706 105.256 L91.5706 101.321 Z\" fill=\"#000000\" fill-rule=\"evenodd\" fill-opacity=\"1\" /><path clip-path=\"url(#clip030)\" d=\"M120.922 99.3767 L125.807 99.3767 L125.807 105.256 L120.922 105.256 L120.922 99.3767 Z\" fill=\"#000000\" fill-rule=\"evenodd\" fill-opacity=\"1\" /><path clip-path=\"url(#clip030)\" d=\"M145.992 73.775 Q142.381 73.775 140.552 77.3398 Q138.746 80.8814 138.746 88.011 Q138.746 95.1174 140.552 98.6822 Q142.381 102.224 145.992 102.224 Q149.626 102.224 151.431 98.6822 Q153.26 95.1174 153.26 88.011 Q153.26 80.8814 151.431 77.3398 Q149.626 73.775 145.992 73.775 M145.992 70.0713 Q151.802 70.0713 154.857 74.6777 Q157.936 79.261 157.936 88.011 Q157.936 96.7378 154.857 101.344 Q151.802 105.928 145.992 105.928 Q140.181 105.928 137.103 101.344 Q134.047 96.7378 134.047 88.011 Q134.047 79.261 137.103 74.6777 Q140.181 70.0713 145.992 70.0713 Z\" fill=\"#000000\" fill-rule=\"evenodd\" fill-opacity=\"1\" /><polyline clip-path=\"url(#clip032)\" style=\"stroke:#009af9; stroke-linecap:butt; stroke-linejoin:round; stroke-width:4; stroke-opacity:1; fill:none\" points=\"\n  255.035,87.9763 362.225,179.854 469.416,430.617 576.607,772.391 683.797,1112.67 790.988,1359.34 898.179,1445.65 1005.37,1348.22 1112.56,1093.44 1219.75,750.258 \n  1326.94,411.57 1434.13,169.048 1541.32,88.3371 1648.51,191.283 1755.7,450.021 1862.89,794.518 1970.09,1131.53 2077.28,1369.83 2184.47,1444.93 2291.66,1336.49 \n  \n  \"/>\n<polyline clip-path=\"url(#clip032)\" style=\"stroke:#e26f46; stroke-linecap:butt; stroke-linejoin:round; stroke-width:4; stroke-opacity:1; fill:none\" points=\"\n  255.035,766.857 362.225,1107.89 469.416,1356.62 576.607,1445.72 683.797,1351.06 790.988,1098.28 898.179,755.791 1005.37,416.297 1112.56,171.69 1219.75,88.1792 \n  1326.94,188.368 1434.13,445.137 1541.32,788.988 1648.51,1126.85 1755.7,1367.27 1862.89,1445.17 1970.09,1339.48 2077.28,1078.79 2184.47,733.669 2291.66,397.532 \n  \n  \"/>\n<path clip-path=\"url(#clip030)\" d=\"\nM1988.5 250.738 L2280.8 250.738 L2280.8 95.2176 L1988.5 95.2176  Z\n  \" fill=\"#ffffff\" fill-rule=\"evenodd\" fill-opacity=\"1\"/>\n<polyline clip-path=\"url(#clip030)\" style=\"stroke:#000000; stroke-linecap:butt; stroke-linejoin:round; stroke-width:4; stroke-opacity:1; fill:none\" points=\"\n  1988.5,250.738 2280.8,250.738 2280.8,95.2176 1988.5,95.2176 1988.5,250.738 \n  \"/>\n<polyline clip-path=\"url(#clip030)\" style=\"stroke:#009af9; stroke-linecap:butt; stroke-linejoin:round; stroke-width:4; stroke-opacity:1; fill:none\" points=\"\n  2012.48,147.058 2156.4,147.058 \n  \"/>\n<path clip-path=\"url(#clip030)\" d=\"M2194.23 166.745 Q2192.43 171.375 2190.72 172.787 Q2189 174.199 2186.13 174.199 L2182.73 174.199 L2182.73 170.634 L2185.23 170.634 Q2186.99 170.634 2187.96 169.8 Q2188.93 168.967 2190.11 165.865 L2190.88 163.921 L2180.39 138.412 L2184.91 138.412 L2193.01 158.689 L2201.11 138.412 L2205.62 138.412 L2194.23 166.745 Z\" fill=\"#000000\" fill-rule=\"evenodd\" fill-opacity=\"1\" /><path clip-path=\"url(#clip030)\" d=\"M2212.91 160.402 L2220.55 160.402 L2220.55 134.037 L2212.24 135.703 L2212.24 131.444 L2220.51 129.778 L2225.18 129.778 L2225.18 160.402 L2232.82 160.402 L2232.82 164.338 L2212.91 164.338 L2212.91 160.402 Z\" fill=\"#000000\" fill-rule=\"evenodd\" fill-opacity=\"1\" /><polyline clip-path=\"url(#clip030)\" style=\"stroke:#e26f46; stroke-linecap:butt; stroke-linejoin:round; stroke-width:4; stroke-opacity:1; fill:none\" points=\"\n  2012.48,198.898 2156.4,198.898 \n  \"/>\n<path clip-path=\"url(#clip030)\" d=\"M2194.23 218.585 Q2192.43 223.215 2190.72 224.627 Q2189 226.039 2186.13 226.039 L2182.73 226.039 L2182.73 222.474 L2185.23 222.474 Q2186.99 222.474 2187.96 221.64 Q2188.93 220.807 2190.11 217.705 L2190.88 215.761 L2180.39 190.252 L2184.91 190.252 L2193.01 210.529 L2201.11 190.252 L2205.62 190.252 L2194.23 218.585 Z\" fill=\"#000000\" fill-rule=\"evenodd\" fill-opacity=\"1\" /><path clip-path=\"url(#clip030)\" d=\"M2216.13 212.242 L2232.45 212.242 L2232.45 216.178 L2210.51 216.178 L2210.51 212.242 Q2213.17 209.488 2217.75 204.858 Q2222.36 200.205 2223.54 198.863 Q2225.78 196.34 2226.66 194.604 Q2227.57 192.844 2227.57 191.155 Q2227.57 188.4 2225.62 186.664 Q2223.7 184.928 2220.6 184.928 Q2218.4 184.928 2215.95 185.692 Q2213.52 186.455 2210.74 188.006 L2210.74 183.284 Q2213.56 182.15 2216.02 181.571 Q2218.47 180.993 2220.51 180.993 Q2225.88 180.993 2229.07 183.678 Q2232.27 186.363 2232.27 190.854 Q2232.27 192.983 2231.46 194.905 Q2230.67 196.803 2228.56 199.395 Q2227.98 200.067 2224.88 203.284 Q2221.78 206.479 2216.13 212.242 Z\" fill=\"#000000\" fill-rule=\"evenodd\" fill-opacity=\"1\" /></svg>\n"
     },
     "execution_count": 14,
     "metadata": {},
     "output_type": "execute_result"
    }
   ],
   "source": [
    "plot(xx, yy)\n",
    "plot!(xx, yy2)"
   ]
  },
  {
   "cell_type": "code",
   "execution_count": null,
   "metadata": {},
   "outputs": [],
   "source": []
  }
 ],
 "metadata": {
  "kernelspec": {
   "display_name": "Julia 1.7.3",
   "language": "julia",
   "name": "julia-1.7"
  },
  "language_info": {
   "file_extension": ".jl",
   "mimetype": "application/julia",
   "name": "julia",
   "version": "1.7.3"
  },
  "orig_nbformat": 4,
  "vscode": {
   "interpreter": {
    "hash": "e7370f93d1d0cde622a1f8e1c04877d8463912d04d973331ad4851f04de6915a"
   }
  }
 },
 "nbformat": 4,
 "nbformat_minor": 2
}
