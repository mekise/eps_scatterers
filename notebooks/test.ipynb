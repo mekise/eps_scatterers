{
 "cells": [
  {
   "cell_type": "code",
   "execution_count": 56,
   "metadata": {},
   "outputs": [
    {
     "data": {
      "text/plain": [
       "Gintegral (generic function with 3 methods)"
      ]
     },
     "execution_count": 56,
     "metadata": {},
     "output_type": "execute_result"
    }
   ],
   "source": [
    "using LinearAlgebra\n",
    "using SpecialFunctions\n",
    "using Random\n",
    "using ForwardDiff\n",
    "using MultiQuad\n",
    "using Plots\n",
    "\n",
    "include(\"../src/Misc.jl\");\n",
    "include(\"../src/GreensFunction.jl\");\n",
    "include(\"../src/InteractionMatrix.jl\");\n",
    "include(\"../src/Fields.jl\");\n",
    "include(\"../src/ComplexGradient.jl\")\n",
    "include(\"../src/Power.jl\")"
   ]
  },
  {
   "cell_type": "code",
   "execution_count": 57,
   "metadata": {},
   "outputs": [],
   "source": [
    "ω = 1.\n",
    "J = Stdd(1.);\n",
    "\n",
    "scattpos = [[1. 2. 3.]\n",
    "            [2. 3. 4.]];\n",
    "\n",
    "alphas = [(1. + 2im)\n",
    "          (1. - 2im)];\n",
    "\n",
    "ϕinput = [(1. +1im), (2. +1im)];\n",
    "\n",
    "x = [1., 1., 0.];"
   ]
  },
  {
   "cell_type": "code",
   "execution_count": 78,
   "metadata": {},
   "outputs": [
    {
     "ename": "LoadError",
     "evalue": "InterruptException:",
     "output_type": "error",
     "traceback": [
      "InterruptException:",
      "",
      "Stacktrace:",
      "  [1] Array",
      "    @ ./boot.jl:457 [inlined]",
      "  [2] similar",
      "    @ ./array.jl:375 [inlined]",
      "  [3] GradientConfig",
      "    @ ~/.julia/packages/ForwardDiff/wAaVJ/src/config.jl:122 [inlined]",
      "  [4] ForwardDiff.GradientConfig(f::var\"#352#356\"{Float64, Float64, Stdd{Float64}}, x::Vector{Float64}, ::ForwardDiff.Chunk{3}) (repeats 2 times)",
      "    @ ForwardDiff ~/.julia/packages/ForwardDiff/wAaVJ/src/config.jl:121",
      "  [5] gradient(f::Function, x::Vector{Float64})",
      "    @ ForwardDiff ~/.julia/packages/ForwardDiff/wAaVJ/src/gradient.jl:17",
      "  [6] #354",
      "    @ ~/GitRepos/ScatterersDDA/src/Power.jl:17 [inlined]",
      "  [7] Gcomplexgrad(x::Vector{Float64}, ω::Float64, J::Stdd{Float64}; imagshift::Float64)",
      "    @ Main ~/GitRepos/ScatterersDDA/src/Power.jl:19",
      "  [8] Gintegrand(x::Vector{Float64}, ω::Float64, J::Stdd{Float64}; imagshift::Float64)",
      "    @ Main ~/GitRepos/ScatterersDDA/src/Power.jl:23",
      "  [9] (::var\"#f#364\"{Float64, Int64, Float64, Stdd{Float64}})(ϕ::Float64, θ::Float64)",
      "    @ Main ~/GitRepos/ScatterersDDA/src/Power.jl:27",
      " [10] (::MultiQuad.var\"#arg1#21\"{var\"#f#364\"{Float64, Int64, Float64, Stdd{Float64}}, var\"#362#365\", var\"#363#366\"})(a::Float64, x::Float64)",
      "    @ MultiQuad ~/.julia/packages/MultiQuad/u10OX/src/MultiQuad.jl:298",
      " [11] (::MultiQuad.var\"#arg2#22\"{Int64, Float64, MultiQuad.var\"#arg1#21\"{var\"#f#364\"{Float64, Int64, Float64, Stdd{Float64}}, var\"#362#365\", var\"#363#366\"}, Unitful.FreeUnits{(), NoDims, nothing}})(a::Float64, b::Float64)",
      "    @ MultiQuad ~/.julia/packages/MultiQuad/u10OX/src/MultiQuad.jl:301",
      " [12] integrand",
      "    @ ~/.julia/packages/MultiQuad/u10OX/src/MultiQuad.jl:305 [inlined]",
      " [13] (::HCubature.GenzMalik{2, Float64})(f::MultiQuad.var\"#integrand#23\"{MultiQuad.var\"#arg2#22\"{Int64, Float64, MultiQuad.var\"#arg1#21\"{var\"#f#364\"{Float64, Int64, Float64, Stdd{Float64}}, var\"#362#365\", var\"#363#366\"}, Unitful.FreeUnits{(), NoDims, nothing}}}, a::StaticArrays.SVector{2, Float64}, b::StaticArrays.SVector{2, Float64}, norm::typeof(norm))",
      "    @ HCubature ~/.julia/packages/HCubature/MepxP/src/genz-malik.jl:132",
      " [14] hcubature_(f::Function, a::StaticArrays.SVector{2, Float64}, b::StaticArrays.SVector{2, Float64}, norm::typeof(norm), rtol_::Int64, atol::Int64, maxevals::Int64, initdiv::Int64)",
      "    @ HCubature ~/.julia/packages/HCubature/MepxP/src/HCubature.jl:103",
      " [15] hcubature_(f::Function, a::Vector{Int64}, b::Vector{Int64}, norm::Function, rtol::Int64, atol::Int64, maxevals::Int64, initdiv::Int64)",
      "    @ HCubature ~/.julia/packages/HCubature/MepxP/src/HCubature.jl:128",
      " [16] #hcubature#3",
      "    @ ~/.julia/packages/HCubature/MepxP/src/HCubature.jl:178 [inlined]",
      " [17] hcubature",
      "    @ ~/.julia/packages/HCubature/MepxP/src/HCubature.jl:178 [inlined]",
      " [18] _hcubature_wrapper_2D(arg::var\"#f#364\"{Float64, Int64, Float64, Stdd{Float64}}, x1::Int64, x2::Float64, y1::var\"#362#365\", y2::var\"#363#366\"; kwargs::Base.Pairs{Symbol, Union{}, Tuple{}, NamedTuple{(), Tuple{}}})",
      "    @ MultiQuad ~/.julia/packages/MultiQuad/u10OX/src/MultiQuad.jl:310",
      " [19] _hcubature_wrapper_2D(arg::Function, x1::Int64, x2::Float64, y1::Function, y2::Function)",
      "    @ MultiQuad ~/.julia/packages/MultiQuad/u10OX/src/MultiQuad.jl:296",
      " [20] dblquad(arg::Function, x1::Int64, x2::Float64, y1::Function, y2::Function; method::Symbol, kwargs::Base.Pairs{Symbol, Union{}, Tuple{}, NamedTuple{(), Tuple{}}})",
      "    @ MultiQuad ~/.julia/packages/MultiQuad/u10OX/src/MultiQuad.jl:387",
      " [21] dblquad",
      "    @ ~/.julia/packages/MultiQuad/u10OX/src/MultiQuad.jl:384 [inlined]",
      " [22] #Gintegral#361",
      "    @ ~/GitRepos/ScatterersDDA/src/Power.jl:28 [inlined]",
      " [23] Gintegral(r::Int64, ω::Float64, J::Stdd{Float64})",
      "    @ Main ~/GitRepos/ScatterersDDA/src/Power.jl:27",
      " [24] top-level scope",
      "    @ In[78]:1",
      " [25] eval",
      "    @ ./boot.jl:373 [inlined]",
      " [26] include_string(mapexpr::typeof(REPL.softscope), mod::Module, code::String, filename::String)",
      "    @ Base ./loading.jl:1196"
     ]
    }
   ],
   "source": [
    "Gintegral(2, ω, J)"
   ]
  },
  {
   "cell_type": "markdown",
   "metadata": {},
   "source": [
    "### Gradient test"
   ]
  },
  {
   "cell_type": "code",
   "execution_count": 3,
   "metadata": {},
   "outputs": [
    {
     "data": {
      "text/plain": [
       "g (generic function with 1 method)"
      ]
     },
     "execution_count": 3,
     "metadata": {},
     "output_type": "execute_result"
    }
   ],
   "source": [
    "xx = LinRange(0, 10, 20)\n",
    "f(x) = sin(x[1]) + cos(x[2])\n",
    "g(x) = ForwardDiff.gradient(f, x)"
   ]
  },
  {
   "cell_type": "code",
   "execution_count": 13,
   "metadata": {},
   "outputs": [],
   "source": [
    "yy = zeros(20)\n",
    "yy2 = zeros(20)\n",
    "\n",
    "for i in 1:20\n",
    "    yy[i] = f([0, xx[i]])\n",
    "    yy2[i] = g([0, xx[i]])[2]\n",
    "end"
   ]
  },
  {
   "cell_type": "code",
   "execution_count": 14,
   "metadata": {},
   "outputs": [
    {
     "data": {
      "image/svg+xml": "<?xml version=\"1.0\" encoding=\"utf-8\"?>\n<svg xmlns=\"http://www.w3.org/2000/svg\" xmlns:xlink=\"http://www.w3.org/1999/xlink\" width=\"600\" height=\"400\" viewBox=\"0 0 2400 1600\">\n<defs>\n  <clipPath id=\"clip030\">\n    <rect x=\"0\" y=\"0\" width=\"2400\" height=\"1600\"/>\n  </clipPath>\n</defs>\n<path clip-path=\"url(#clip030)\" d=\"\nM0 1600 L2400 1600 L2400 0 L0 0  Z\n  \" fill=\"#ffffff\" fill-rule=\"evenodd\" fill-opacity=\"1\"/>\n<defs>\n  <clipPath id=\"clip031\">\n    <rect x=\"480\" y=\"0\" width=\"1681\" height=\"1600\"/>\n  </clipPath>\n</defs>\n<path clip-path=\"url(#clip030)\" d=\"\nM193.936 1486.45 L2352.76 1486.45 L2352.76 47.2441 L193.936 47.2441  Z\n  \" fill=\"#ffffff\" fill-rule=\"evenodd\" fill-opacity=\"1\"/>\n<defs>\n  <clipPath id=\"clip032\">\n    <rect x=\"193\" y=\"47\" width=\"2160\" height=\"1440\"/>\n  </clipPath>\n</defs>\n<polyline clip-path=\"url(#clip032)\" style=\"stroke:#000000; stroke-linecap:butt; stroke-linejoin:round; stroke-width:2; stroke-opacity:0.1; fill:none\" points=\"\n  255.035,1486.45 255.035,47.2441 \n  \"/>\n<polyline clip-path=\"url(#clip032)\" style=\"stroke:#000000; stroke-linecap:butt; stroke-linejoin:round; stroke-width:2; stroke-opacity:0.1; fill:none\" points=\"\n  764.19,1486.45 764.19,47.2441 \n  \"/>\n<polyline clip-path=\"url(#clip032)\" style=\"stroke:#000000; stroke-linecap:butt; stroke-linejoin:round; stroke-width:2; stroke-opacity:0.1; fill:none\" points=\"\n  1273.35,1486.45 1273.35,47.2441 \n  \"/>\n<polyline clip-path=\"url(#clip032)\" style=\"stroke:#000000; stroke-linecap:butt; stroke-linejoin:round; stroke-width:2; stroke-opacity:0.1; fill:none\" points=\"\n  1782.5,1486.45 1782.5,47.2441 \n  \"/>\n<polyline clip-path=\"url(#clip032)\" style=\"stroke:#000000; stroke-linecap:butt; stroke-linejoin:round; stroke-width:2; stroke-opacity:0.1; fill:none\" points=\"\n  2291.66,1486.45 2291.66,47.2441 \n  \"/>\n<polyline clip-path=\"url(#clip030)\" style=\"stroke:#000000; stroke-linecap:butt; stroke-linejoin:round; stroke-width:4; stroke-opacity:1; fill:none\" points=\"\n  193.936,1486.45 2352.76,1486.45 \n  \"/>\n<polyline clip-path=\"url(#clip030)\" style=\"stroke:#000000; stroke-linecap:butt; stroke-linejoin:round; stroke-width:4; stroke-opacity:1; fill:none\" points=\"\n  255.035,1486.45 255.035,1467.55 \n  \"/>\n<polyline clip-path=\"url(#clip030)\" style=\"stroke:#000000; stroke-linecap:butt; stroke-linejoin:round; stroke-width:4; stroke-opacity:1; fill:none\" points=\"\n  764.19,1486.45 764.19,1467.55 \n  \"/>\n<polyline clip-path=\"url(#clip030)\" style=\"stroke:#000000; stroke-linecap:butt; stroke-linejoin:round; stroke-width:4; stroke-opacity:1; fill:none\" points=\"\n  1273.35,1486.45 1273.35,1467.55 \n  \"/>\n<polyline clip-path=\"url(#clip030)\" style=\"stroke:#000000; stroke-linecap:butt; stroke-linejoin:round; stroke-width:4; stroke-opacity:1; fill:none\" points=\"\n  1782.5,1486.45 1782.5,1467.55 \n  \"/>\n<polyline clip-path=\"url(#clip030)\" style=\"stroke:#000000; stroke-linecap:butt; stroke-linejoin:round; stroke-width:4; stroke-opacity:1; fill:none\" points=\"\n  2291.66,1486.45 2291.66,1467.55 \n  \"/>\n<path clip-path=\"url(#clip030)\" d=\"M232.419 1517.37 Q228.808 1517.37 226.979 1520.93 Q225.174 1524.47 225.174 1531.6 Q225.174 1538.71 226.979 1542.27 Q228.808 1545.82 232.419 1545.82 Q236.053 1545.82 237.859 1542.27 Q239.688 1538.71 239.688 1531.6 Q239.688 1524.47 237.859 1520.93 Q236.053 1517.37 232.419 1517.37 M232.419 1513.66 Q238.229 1513.66 241.285 1518.27 Q244.363 1522.85 244.363 1531.6 Q244.363 1540.33 241.285 1544.94 Q238.229 1549.52 232.419 1549.52 Q226.609 1549.52 223.53 1544.94 Q220.475 1540.33 220.475 1531.6 Q220.475 1522.85 223.53 1518.27 Q226.609 1513.66 232.419 1513.66 Z\" fill=\"#000000\" fill-rule=\"evenodd\" fill-opacity=\"1\" /><path clip-path=\"url(#clip030)\" d=\"M252.581 1542.97 L257.465 1542.97 L257.465 1548.85 L252.581 1548.85 L252.581 1542.97 Z\" fill=\"#000000\" fill-rule=\"evenodd\" fill-opacity=\"1\" /><path clip-path=\"url(#clip030)\" d=\"M277.65 1517.37 Q274.039 1517.37 272.211 1520.93 Q270.405 1524.47 270.405 1531.6 Q270.405 1538.71 272.211 1542.27 Q274.039 1545.82 277.65 1545.82 Q281.285 1545.82 283.09 1542.27 Q284.919 1538.71 284.919 1531.6 Q284.919 1524.47 283.09 1520.93 Q281.285 1517.37 277.65 1517.37 M277.65 1513.66 Q283.46 1513.66 286.516 1518.27 Q289.595 1522.85 289.595 1531.6 Q289.595 1540.33 286.516 1544.94 Q283.46 1549.52 277.65 1549.52 Q271.84 1549.52 268.761 1544.94 Q265.706 1540.33 265.706 1531.6 Q265.706 1522.85 268.761 1518.27 Q271.84 1513.66 277.65 1513.66 Z\" fill=\"#000000\" fill-rule=\"evenodd\" fill-opacity=\"1\" /><path clip-path=\"url(#clip030)\" d=\"M735.927 1544.91 L752.246 1544.91 L752.246 1548.85 L730.302 1548.85 L730.302 1544.91 Q732.964 1542.16 737.547 1537.53 Q742.153 1532.88 743.334 1531.53 Q745.579 1529.01 746.459 1527.27 Q747.362 1525.51 747.362 1523.82 Q747.362 1521.07 745.417 1519.33 Q743.496 1517.6 740.394 1517.6 Q738.195 1517.6 735.741 1518.36 Q733.311 1519.13 730.533 1520.68 L730.533 1515.95 Q733.357 1514.82 735.811 1514.24 Q738.265 1513.66 740.302 1513.66 Q745.672 1513.66 748.866 1516.35 Q752.061 1519.03 752.061 1523.52 Q752.061 1525.65 751.251 1527.57 Q750.464 1529.47 748.357 1532.07 Q747.778 1532.74 744.677 1535.95 Q741.575 1539.15 735.927 1544.91 Z\" fill=\"#000000\" fill-rule=\"evenodd\" fill-opacity=\"1\" /><path clip-path=\"url(#clip030)\" d=\"M762.061 1542.97 L766.945 1542.97 L766.945 1548.85 L762.061 1548.85 L762.061 1542.97 Z\" fill=\"#000000\" fill-rule=\"evenodd\" fill-opacity=\"1\" /><path clip-path=\"url(#clip030)\" d=\"M777.176 1514.29 L795.533 1514.29 L795.533 1518.22 L781.459 1518.22 L781.459 1526.7 Q782.477 1526.35 783.496 1526.19 Q784.514 1526 785.533 1526 Q791.32 1526 794.699 1529.17 Q798.079 1532.34 798.079 1537.76 Q798.079 1543.34 794.607 1546.44 Q791.135 1549.52 784.815 1549.52 Q782.639 1549.52 780.371 1549.15 Q778.125 1548.78 775.718 1548.04 L775.718 1543.34 Q777.801 1544.47 780.024 1545.03 Q782.246 1545.58 784.723 1545.58 Q788.727 1545.58 791.065 1543.48 Q793.403 1541.37 793.403 1537.76 Q793.403 1534.15 791.065 1532.04 Q788.727 1529.94 784.723 1529.94 Q782.848 1529.94 780.973 1530.35 Q779.121 1530.77 777.176 1531.65 L777.176 1514.29 Z\" fill=\"#000000\" fill-rule=\"evenodd\" fill-opacity=\"1\" /><path clip-path=\"url(#clip030)\" d=\"M1240.51 1514.29 L1258.87 1514.29 L1258.87 1518.22 L1244.79 1518.22 L1244.79 1526.7 Q1245.81 1526.35 1246.83 1526.19 Q1247.85 1526 1248.87 1526 Q1254.65 1526 1258.03 1529.17 Q1261.41 1532.34 1261.41 1537.76 Q1261.41 1543.34 1257.94 1546.44 Q1254.47 1549.52 1248.15 1549.52 Q1245.97 1549.52 1243.7 1549.15 Q1241.46 1548.78 1239.05 1548.04 L1239.05 1543.34 Q1241.14 1544.47 1243.36 1545.03 Q1245.58 1545.58 1248.06 1545.58 Q1252.06 1545.58 1254.4 1543.48 Q1256.74 1541.37 1256.74 1537.76 Q1256.74 1534.15 1254.4 1532.04 Q1252.06 1529.94 1248.06 1529.94 Q1246.18 1529.94 1244.31 1530.35 Q1242.45 1530.77 1240.51 1531.65 L1240.51 1514.29 Z\" fill=\"#000000\" fill-rule=\"evenodd\" fill-opacity=\"1\" /><path clip-path=\"url(#clip030)\" d=\"M1270.63 1542.97 L1275.51 1542.97 L1275.51 1548.85 L1270.63 1548.85 L1270.63 1542.97 Z\" fill=\"#000000\" fill-rule=\"evenodd\" fill-opacity=\"1\" /><path clip-path=\"url(#clip030)\" d=\"M1295.7 1517.37 Q1292.08 1517.37 1290.26 1520.93 Q1288.45 1524.47 1288.45 1531.6 Q1288.45 1538.71 1290.26 1542.27 Q1292.08 1545.82 1295.7 1545.82 Q1299.33 1545.82 1301.14 1542.27 Q1302.96 1538.71 1302.96 1531.6 Q1302.96 1524.47 1301.14 1520.93 Q1299.33 1517.37 1295.7 1517.37 M1295.7 1513.66 Q1301.51 1513.66 1304.56 1518.27 Q1307.64 1522.85 1307.64 1531.6 Q1307.64 1540.33 1304.56 1544.94 Q1301.51 1549.52 1295.7 1549.52 Q1289.89 1549.52 1286.81 1544.94 Q1283.75 1540.33 1283.75 1531.6 Q1283.75 1522.85 1286.81 1518.27 Q1289.89 1513.66 1295.7 1513.66 Z\" fill=\"#000000\" fill-rule=\"evenodd\" fill-opacity=\"1\" /><path clip-path=\"url(#clip030)\" d=\"M1748.82 1514.29 L1771.04 1514.29 L1771.04 1516.28 L1758.5 1548.85 L1753.61 1548.85 L1765.42 1518.22 L1748.82 1518.22 L1748.82 1514.29 Z\" fill=\"#000000\" fill-rule=\"evenodd\" fill-opacity=\"1\" /><path clip-path=\"url(#clip030)\" d=\"M1780.16 1542.97 L1785.05 1542.97 L1785.05 1548.85 L1780.16 1548.85 L1780.16 1542.97 Z\" fill=\"#000000\" fill-rule=\"evenodd\" fill-opacity=\"1\" /><path clip-path=\"url(#clip030)\" d=\"M1795.28 1514.29 L1813.64 1514.29 L1813.64 1518.22 L1799.56 1518.22 L1799.56 1526.7 Q1800.58 1526.35 1801.6 1526.19 Q1802.62 1526 1803.64 1526 Q1809.42 1526 1812.8 1529.17 Q1816.18 1532.34 1816.18 1537.76 Q1816.18 1543.34 1812.71 1546.44 Q1809.24 1549.52 1802.92 1549.52 Q1800.74 1549.52 1798.47 1549.15 Q1796.23 1548.78 1793.82 1548.04 L1793.82 1543.34 Q1795.9 1544.47 1798.13 1545.03 Q1800.35 1545.58 1802.83 1545.58 Q1806.83 1545.58 1809.17 1543.48 Q1811.51 1541.37 1811.51 1537.76 Q1811.51 1534.15 1809.17 1532.04 Q1806.83 1529.94 1802.83 1529.94 Q1800.95 1529.94 1799.08 1530.35 Q1797.22 1530.77 1795.28 1531.65 L1795.28 1514.29 Z\" fill=\"#000000\" fill-rule=\"evenodd\" fill-opacity=\"1\" /><path clip-path=\"url(#clip030)\" d=\"M2243.73 1544.91 L2251.37 1544.91 L2251.37 1518.55 L2243.06 1520.21 L2243.06 1515.95 L2251.32 1514.29 L2256 1514.29 L2256 1544.91 L2263.64 1544.91 L2263.64 1548.85 L2243.73 1548.85 L2243.73 1544.91 Z\" fill=\"#000000\" fill-rule=\"evenodd\" fill-opacity=\"1\" /><path clip-path=\"url(#clip030)\" d=\"M2283.08 1517.37 Q2279.47 1517.37 2277.64 1520.93 Q2275.84 1524.47 2275.84 1531.6 Q2275.84 1538.71 2277.64 1542.27 Q2279.47 1545.82 2283.08 1545.82 Q2286.72 1545.82 2288.52 1542.27 Q2290.35 1538.71 2290.35 1531.6 Q2290.35 1524.47 2288.52 1520.93 Q2286.72 1517.37 2283.08 1517.37 M2283.08 1513.66 Q2288.89 1513.66 2291.95 1518.27 Q2295.03 1522.85 2295.03 1531.6 Q2295.03 1540.33 2291.95 1544.94 Q2288.89 1549.52 2283.08 1549.52 Q2277.27 1549.52 2274.19 1544.94 Q2271.14 1540.33 2271.14 1531.6 Q2271.14 1522.85 2274.19 1518.27 Q2277.27 1513.66 2283.08 1513.66 Z\" fill=\"#000000\" fill-rule=\"evenodd\" fill-opacity=\"1\" /><path clip-path=\"url(#clip030)\" d=\"M2303.24 1542.97 L2308.13 1542.97 L2308.13 1548.85 L2303.24 1548.85 L2303.24 1542.97 Z\" fill=\"#000000\" fill-rule=\"evenodd\" fill-opacity=\"1\" /><path clip-path=\"url(#clip030)\" d=\"M2328.31 1517.37 Q2324.7 1517.37 2322.87 1520.93 Q2321.07 1524.47 2321.07 1531.6 Q2321.07 1538.71 2322.87 1542.27 Q2324.7 1545.82 2328.31 1545.82 Q2331.95 1545.82 2333.75 1542.27 Q2335.58 1538.71 2335.58 1531.6 Q2335.58 1524.47 2333.75 1520.93 Q2331.95 1517.37 2328.31 1517.37 M2328.31 1513.66 Q2334.12 1513.66 2337.18 1518.27 Q2340.26 1522.85 2340.26 1531.6 Q2340.26 1540.33 2337.18 1544.94 Q2334.12 1549.52 2328.31 1549.52 Q2322.5 1549.52 2319.42 1544.94 Q2316.37 1540.33 2316.37 1531.6 Q2316.37 1522.85 2319.42 1518.27 Q2322.5 1513.66 2328.31 1513.66 Z\" fill=\"#000000\" fill-rule=\"evenodd\" fill-opacity=\"1\" /><polyline clip-path=\"url(#clip032)\" style=\"stroke:#000000; stroke-linecap:butt; stroke-linejoin:round; stroke-width:2; stroke-opacity:0.1; fill:none\" points=\"\n  193.936,1445.74 2352.76,1445.74 \n  \"/>\n<polyline clip-path=\"url(#clip032)\" style=\"stroke:#000000; stroke-linecap:butt; stroke-linejoin:round; stroke-width:2; stroke-opacity:0.1; fill:none\" points=\"\n  193.936,1106.3 2352.76,1106.3 \n  \"/>\n<polyline clip-path=\"url(#clip032)\" style=\"stroke:#000000; stroke-linecap:butt; stroke-linejoin:round; stroke-width:2; stroke-opacity:0.1; fill:none\" points=\"\n  193.936,766.857 2352.76,766.857 \n  \"/>\n<polyline clip-path=\"url(#clip032)\" style=\"stroke:#000000; stroke-linecap:butt; stroke-linejoin:round; stroke-width:2; stroke-opacity:0.1; fill:none\" points=\"\n  193.936,427.417 2352.76,427.417 \n  \"/>\n<polyline clip-path=\"url(#clip032)\" style=\"stroke:#000000; stroke-linecap:butt; stroke-linejoin:round; stroke-width:2; stroke-opacity:0.1; fill:none\" points=\"\n  193.936,87.9763 2352.76,87.9763 \n  \"/>\n<polyline clip-path=\"url(#clip030)\" style=\"stroke:#000000; stroke-linecap:butt; stroke-linejoin:round; stroke-width:4; stroke-opacity:1; fill:none\" points=\"\n  193.936,1486.45 193.936,47.2441 \n  \"/>\n<polyline clip-path=\"url(#clip030)\" style=\"stroke:#000000; stroke-linecap:butt; stroke-linejoin:round; stroke-width:4; stroke-opacity:1; fill:none\" points=\"\n  193.936,1445.74 212.834,1445.74 \n  \"/>\n<polyline clip-path=\"url(#clip030)\" style=\"stroke:#000000; stroke-linecap:butt; stroke-linejoin:round; stroke-width:4; stroke-opacity:1; fill:none\" points=\"\n  193.936,1106.3 212.834,1106.3 \n  \"/>\n<polyline clip-path=\"url(#clip030)\" style=\"stroke:#000000; stroke-linecap:butt; stroke-linejoin:round; stroke-width:4; stroke-opacity:1; fill:none\" points=\"\n  193.936,766.857 212.834,766.857 \n  \"/>\n<polyline clip-path=\"url(#clip030)\" style=\"stroke:#000000; stroke-linecap:butt; stroke-linejoin:round; stroke-width:4; stroke-opacity:1; fill:none\" points=\"\n  193.936,427.417 212.834,427.417 \n  \"/>\n<polyline clip-path=\"url(#clip030)\" style=\"stroke:#000000; stroke-linecap:butt; stroke-linejoin:round; stroke-width:4; stroke-opacity:1; fill:none\" points=\"\n  193.936,87.9763 212.834,87.9763 \n  \"/>\n<path clip-path=\"url(#clip030)\" d=\"M50.9921 1446.19 L80.6679 1446.19 L80.6679 1450.12 L50.9921 1450.12 L50.9921 1446.19 Z\" fill=\"#000000\" fill-rule=\"evenodd\" fill-opacity=\"1\" /><path clip-path=\"url(#clip030)\" d=\"M91.5706 1459.08 L99.2095 1459.08 L99.2095 1432.72 L90.8993 1434.38 L90.8993 1430.12 L99.1632 1428.46 L103.839 1428.46 L103.839 1459.08 L111.478 1459.08 L111.478 1463.02 L91.5706 1463.02 L91.5706 1459.08 Z\" fill=\"#000000\" fill-rule=\"evenodd\" fill-opacity=\"1\" /><path clip-path=\"url(#clip030)\" d=\"M120.922 1457.14 L125.807 1457.14 L125.807 1463.02 L120.922 1463.02 L120.922 1457.14 Z\" fill=\"#000000\" fill-rule=\"evenodd\" fill-opacity=\"1\" /><path clip-path=\"url(#clip030)\" d=\"M145.992 1431.54 Q142.381 1431.54 140.552 1435.1 Q138.746 1438.64 138.746 1445.77 Q138.746 1452.88 140.552 1456.44 Q142.381 1459.99 145.992 1459.99 Q149.626 1459.99 151.431 1456.44 Q153.26 1452.88 153.26 1445.77 Q153.26 1438.64 151.431 1435.1 Q149.626 1431.54 145.992 1431.54 M145.992 1427.83 Q151.802 1427.83 154.857 1432.44 Q157.936 1437.02 157.936 1445.77 Q157.936 1454.5 154.857 1459.11 Q151.802 1463.69 145.992 1463.69 Q140.181 1463.69 137.103 1459.11 Q134.047 1454.5 134.047 1445.77 Q134.047 1437.02 137.103 1432.44 Q140.181 1427.83 145.992 1427.83 Z\" fill=\"#000000\" fill-rule=\"evenodd\" fill-opacity=\"1\" /><path clip-path=\"url(#clip030)\" d=\"M51.9875 1106.75 L81.6633 1106.75 L81.6633 1110.68 L51.9875 1110.68 L51.9875 1106.75 Z\" fill=\"#000000\" fill-rule=\"evenodd\" fill-opacity=\"1\" /><path clip-path=\"url(#clip030)\" d=\"M101.756 1092.1 Q98.1447 1092.1 96.316 1095.66 Q94.5104 1099.2 94.5104 1106.33 Q94.5104 1113.44 96.316 1117 Q98.1447 1120.55 101.756 1120.55 Q105.39 1120.55 107.196 1117 Q109.024 1113.44 109.024 1106.33 Q109.024 1099.2 107.196 1095.66 Q105.39 1092.1 101.756 1092.1 M101.756 1088.39 Q107.566 1088.39 110.621 1093 Q113.7 1097.58 113.7 1106.33 Q113.7 1115.06 110.621 1119.67 Q107.566 1124.25 101.756 1124.25 Q95.9456 1124.25 92.8669 1119.67 Q89.8114 1115.06 89.8114 1106.33 Q89.8114 1097.58 92.8669 1093 Q95.9456 1088.39 101.756 1088.39 Z\" fill=\"#000000\" fill-rule=\"evenodd\" fill-opacity=\"1\" /><path clip-path=\"url(#clip030)\" d=\"M121.918 1117.7 L126.802 1117.7 L126.802 1123.58 L121.918 1123.58 L121.918 1117.7 Z\" fill=\"#000000\" fill-rule=\"evenodd\" fill-opacity=\"1\" /><path clip-path=\"url(#clip030)\" d=\"M137.033 1089.02 L155.39 1089.02 L155.39 1092.95 L141.316 1092.95 L141.316 1101.43 Q142.334 1101.08 143.353 1100.92 Q144.371 1100.73 145.39 1100.73 Q151.177 1100.73 154.556 1103.9 Q157.936 1107.07 157.936 1112.49 Q157.936 1118.07 154.464 1121.17 Q150.992 1124.25 144.672 1124.25 Q142.496 1124.25 140.228 1123.88 Q137.982 1123.51 135.575 1122.77 L135.575 1118.07 Q137.658 1119.2 139.881 1119.76 Q142.103 1120.31 144.58 1120.31 Q148.584 1120.31 150.922 1118.21 Q153.26 1116.1 153.26 1112.49 Q153.26 1108.88 150.922 1106.77 Q148.584 1104.67 144.58 1104.67 Q142.705 1104.67 140.83 1105.08 Q138.978 1105.5 137.033 1106.38 L137.033 1089.02 Z\" fill=\"#000000\" fill-rule=\"evenodd\" fill-opacity=\"1\" /><path clip-path=\"url(#clip030)\" d=\"M100.76 752.656 Q97.1493 752.656 95.3206 756.221 Q93.515 759.762 93.515 766.892 Q93.515 773.998 95.3206 777.563 Q97.1493 781.105 100.76 781.105 Q104.395 781.105 106.2 777.563 Q108.029 773.998 108.029 766.892 Q108.029 759.762 106.2 756.221 Q104.395 752.656 100.76 752.656 M100.76 748.952 Q106.571 748.952 109.626 753.559 Q112.705 758.142 112.705 766.892 Q112.705 775.619 109.626 780.225 Q106.571 784.809 100.76 784.809 Q94.9502 784.809 91.8715 780.225 Q88.816 775.619 88.816 766.892 Q88.816 758.142 91.8715 753.559 Q94.9502 748.952 100.76 748.952 Z\" fill=\"#000000\" fill-rule=\"evenodd\" fill-opacity=\"1\" /><path clip-path=\"url(#clip030)\" d=\"M120.922 778.258 L125.807 778.258 L125.807 784.137 L120.922 784.137 L120.922 778.258 Z\" fill=\"#000000\" fill-rule=\"evenodd\" fill-opacity=\"1\" /><path clip-path=\"url(#clip030)\" d=\"M145.992 752.656 Q142.381 752.656 140.552 756.221 Q138.746 759.762 138.746 766.892 Q138.746 773.998 140.552 777.563 Q142.381 781.105 145.992 781.105 Q149.626 781.105 151.431 777.563 Q153.26 773.998 153.26 766.892 Q153.26 759.762 151.431 756.221 Q149.626 752.656 145.992 752.656 M145.992 748.952 Q151.802 748.952 154.857 753.559 Q157.936 758.142 157.936 766.892 Q157.936 775.619 154.857 780.225 Q151.802 784.809 145.992 784.809 Q140.181 784.809 137.103 780.225 Q134.047 775.619 134.047 766.892 Q134.047 758.142 137.103 753.559 Q140.181 748.952 145.992 748.952 Z\" fill=\"#000000\" fill-rule=\"evenodd\" fill-opacity=\"1\" /><path clip-path=\"url(#clip030)\" d=\"M101.756 413.215 Q98.1447 413.215 96.316 416.78 Q94.5104 420.322 94.5104 427.451 Q94.5104 434.558 96.316 438.123 Q98.1447 441.664 101.756 441.664 Q105.39 441.664 107.196 438.123 Q109.024 434.558 109.024 427.451 Q109.024 420.322 107.196 416.78 Q105.39 413.215 101.756 413.215 M101.756 409.512 Q107.566 409.512 110.621 414.118 Q113.7 418.702 113.7 427.451 Q113.7 436.178 110.621 440.785 Q107.566 445.368 101.756 445.368 Q95.9456 445.368 92.8669 440.785 Q89.8114 436.178 89.8114 427.451 Q89.8114 418.702 92.8669 414.118 Q95.9456 409.512 101.756 409.512 Z\" fill=\"#000000\" fill-rule=\"evenodd\" fill-opacity=\"1\" /><path clip-path=\"url(#clip030)\" d=\"M121.918 438.817 L126.802 438.817 L126.802 444.697 L121.918 444.697 L121.918 438.817 Z\" fill=\"#000000\" fill-rule=\"evenodd\" fill-opacity=\"1\" /><path clip-path=\"url(#clip030)\" d=\"M137.033 410.137 L155.39 410.137 L155.39 414.072 L141.316 414.072 L141.316 422.544 Q142.334 422.197 143.353 422.035 Q144.371 421.85 145.39 421.85 Q151.177 421.85 154.556 425.021 Q157.936 428.192 157.936 433.609 Q157.936 439.188 154.464 442.289 Q150.992 445.368 144.672 445.368 Q142.496 445.368 140.228 444.998 Q137.982 444.627 135.575 443.887 L135.575 439.188 Q137.658 440.322 139.881 440.877 Q142.103 441.433 144.58 441.433 Q148.584 441.433 150.922 439.326 Q153.26 437.22 153.26 433.609 Q153.26 429.998 150.922 427.891 Q148.584 425.785 144.58 425.785 Q142.705 425.785 140.83 426.201 Q138.978 426.618 137.033 427.498 L137.033 410.137 Z\" fill=\"#000000\" fill-rule=\"evenodd\" fill-opacity=\"1\" /><path clip-path=\"url(#clip030)\" d=\"M91.5706 101.321 L99.2095 101.321 L99.2095 74.9555 L90.8993 76.6222 L90.8993 72.3629 L99.1632 70.6963 L103.839 70.6963 L103.839 101.321 L111.478 101.321 L111.478 105.256 L91.5706 105.256 L91.5706 101.321 Z\" fill=\"#000000\" fill-rule=\"evenodd\" fill-opacity=\"1\" /><path clip-path=\"url(#clip030)\" d=\"M120.922 99.3767 L125.807 99.3767 L125.807 105.256 L120.922 105.256 L120.922 99.3767 Z\" fill=\"#000000\" fill-rule=\"evenodd\" fill-opacity=\"1\" /><path clip-path=\"url(#clip030)\" d=\"M145.992 73.775 Q142.381 73.775 140.552 77.3398 Q138.746 80.8814 138.746 88.011 Q138.746 95.1174 140.552 98.6822 Q142.381 102.224 145.992 102.224 Q149.626 102.224 151.431 98.6822 Q153.26 95.1174 153.26 88.011 Q153.26 80.8814 151.431 77.3398 Q149.626 73.775 145.992 73.775 M145.992 70.0713 Q151.802 70.0713 154.857 74.6777 Q157.936 79.261 157.936 88.011 Q157.936 96.7378 154.857 101.344 Q151.802 105.928 145.992 105.928 Q140.181 105.928 137.103 101.344 Q134.047 96.7378 134.047 88.011 Q134.047 79.261 137.103 74.6777 Q140.181 70.0713 145.992 70.0713 Z\" fill=\"#000000\" fill-rule=\"evenodd\" fill-opacity=\"1\" /><polyline clip-path=\"url(#clip032)\" style=\"stroke:#009af9; stroke-linecap:butt; stroke-linejoin:round; stroke-width:4; stroke-opacity:1; fill:none\" points=\"\n  255.035,87.9763 362.225,179.854 469.416,430.617 576.607,772.391 683.797,1112.67 790.988,1359.34 898.179,1445.65 1005.37,1348.22 1112.56,1093.44 1219.75,750.258 \n  1326.94,411.57 1434.13,169.048 1541.32,88.3371 1648.51,191.283 1755.7,450.021 1862.89,794.518 1970.09,1131.53 2077.28,1369.83 2184.47,1444.93 2291.66,1336.49 \n  \n  \"/>\n<polyline clip-path=\"url(#clip032)\" style=\"stroke:#e26f46; stroke-linecap:butt; stroke-linejoin:round; stroke-width:4; stroke-opacity:1; fill:none\" points=\"\n  255.035,766.857 362.225,1107.89 469.416,1356.62 576.607,1445.72 683.797,1351.06 790.988,1098.28 898.179,755.791 1005.37,416.297 1112.56,171.69 1219.75,88.1792 \n  1326.94,188.368 1434.13,445.137 1541.32,788.988 1648.51,1126.85 1755.7,1367.27 1862.89,1445.17 1970.09,1339.48 2077.28,1078.79 2184.47,733.669 2291.66,397.532 \n  \n  \"/>\n<path clip-path=\"url(#clip030)\" d=\"\nM1988.5 250.738 L2280.8 250.738 L2280.8 95.2176 L1988.5 95.2176  Z\n  \" fill=\"#ffffff\" fill-rule=\"evenodd\" fill-opacity=\"1\"/>\n<polyline clip-path=\"url(#clip030)\" style=\"stroke:#000000; stroke-linecap:butt; stroke-linejoin:round; stroke-width:4; stroke-opacity:1; fill:none\" points=\"\n  1988.5,250.738 2280.8,250.738 2280.8,95.2176 1988.5,95.2176 1988.5,250.738 \n  \"/>\n<polyline clip-path=\"url(#clip030)\" style=\"stroke:#009af9; stroke-linecap:butt; stroke-linejoin:round; stroke-width:4; stroke-opacity:1; fill:none\" points=\"\n  2012.48,147.058 2156.4,147.058 \n  \"/>\n<path clip-path=\"url(#clip030)\" d=\"M2194.23 166.745 Q2192.43 171.375 2190.72 172.787 Q2189 174.199 2186.13 174.199 L2182.73 174.199 L2182.73 170.634 L2185.23 170.634 Q2186.99 170.634 2187.96 169.8 Q2188.93 168.967 2190.11 165.865 L2190.88 163.921 L2180.39 138.412 L2184.91 138.412 L2193.01 158.689 L2201.11 138.412 L2205.62 138.412 L2194.23 166.745 Z\" fill=\"#000000\" fill-rule=\"evenodd\" fill-opacity=\"1\" /><path clip-path=\"url(#clip030)\" d=\"M2212.91 160.402 L2220.55 160.402 L2220.55 134.037 L2212.24 135.703 L2212.24 131.444 L2220.51 129.778 L2225.18 129.778 L2225.18 160.402 L2232.82 160.402 L2232.82 164.338 L2212.91 164.338 L2212.91 160.402 Z\" fill=\"#000000\" fill-rule=\"evenodd\" fill-opacity=\"1\" /><polyline clip-path=\"url(#clip030)\" style=\"stroke:#e26f46; stroke-linecap:butt; stroke-linejoin:round; stroke-width:4; stroke-opacity:1; fill:none\" points=\"\n  2012.48,198.898 2156.4,198.898 \n  \"/>\n<path clip-path=\"url(#clip030)\" d=\"M2194.23 218.585 Q2192.43 223.215 2190.72 224.627 Q2189 226.039 2186.13 226.039 L2182.73 226.039 L2182.73 222.474 L2185.23 222.474 Q2186.99 222.474 2187.96 221.64 Q2188.93 220.807 2190.11 217.705 L2190.88 215.761 L2180.39 190.252 L2184.91 190.252 L2193.01 210.529 L2201.11 190.252 L2205.62 190.252 L2194.23 218.585 Z\" fill=\"#000000\" fill-rule=\"evenodd\" fill-opacity=\"1\" /><path clip-path=\"url(#clip030)\" d=\"M2216.13 212.242 L2232.45 212.242 L2232.45 216.178 L2210.51 216.178 L2210.51 212.242 Q2213.17 209.488 2217.75 204.858 Q2222.36 200.205 2223.54 198.863 Q2225.78 196.34 2226.66 194.604 Q2227.57 192.844 2227.57 191.155 Q2227.57 188.4 2225.62 186.664 Q2223.7 184.928 2220.6 184.928 Q2218.4 184.928 2215.95 185.692 Q2213.52 186.455 2210.74 188.006 L2210.74 183.284 Q2213.56 182.15 2216.02 181.571 Q2218.47 180.993 2220.51 180.993 Q2225.88 180.993 2229.07 183.678 Q2232.27 186.363 2232.27 190.854 Q2232.27 192.983 2231.46 194.905 Q2230.67 196.803 2228.56 199.395 Q2227.98 200.067 2224.88 203.284 Q2221.78 206.479 2216.13 212.242 Z\" fill=\"#000000\" fill-rule=\"evenodd\" fill-opacity=\"1\" /></svg>\n"
     },
     "execution_count": 14,
     "metadata": {},
     "output_type": "execute_result"
    }
   ],
   "source": [
    "plot(xx, yy)\n",
    "plot!(xx, yy2)"
   ]
  },
  {
   "cell_type": "code",
   "execution_count": null,
   "metadata": {},
   "outputs": [],
   "source": []
  }
 ],
 "metadata": {
  "kernelspec": {
   "display_name": "Julia 1.7.2",
   "language": "julia",
   "name": "julia-1.7"
  },
  "language_info": {
   "file_extension": ".jl",
   "mimetype": "application/julia",
   "name": "julia",
   "version": "1.7.3"
  },
  "orig_nbformat": 4
 },
 "nbformat": 4,
 "nbformat_minor": 2
}
