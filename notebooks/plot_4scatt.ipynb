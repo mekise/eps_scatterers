{
 "cells": [
  {
   "cell_type": "code",
   "execution_count": 1,
   "metadata": {},
   "outputs": [],
   "source": [
    "import numpy as np\n",
    "import matplotlib.pyplot as plt\n",
    "from numpy import linalg as la\n",
    "import matplotlib.animation as animation\n",
    "%matplotlib widget"
   ]
  },
  {
   "cell_type": "markdown",
   "metadata": {},
   "source": [
    "### 4 scatterers - eigenvalues coalescence (animation)"
   ]
  },
  {
   "cell_type": "code",
   "execution_count": null,
   "metadata": {},
   "outputs": [],
   "source": [
    "filenpz = \"../data/eigs_4scatt_nlsolve.npz\"\n",
    "savegif = \"eigs_4scatt_nlsolve.gif\"\n",
    "\n",
    "plt.close('all')\n",
    "fig, ax = plt.subplots(dpi=120)\n",
    "plt.gcf().set_facecolor(\"white\") # set white background\n",
    "\n",
    "scattpos = np.load(filenpz)[\"scattpos\"]\n",
    "rspan = np.load(filenpz)[\"rspan\"]\n",
    "eigs = np.load(filenpz)[\"eigs\"]\n",
    "\n",
    "plt.axhline(0, ls='dotted', c='grey', lw=1)\n",
    "plt.axvline(0, ls='dotted', c='grey', lw=1)\n",
    "plt.xlim(-np.max(np.abs(eigs.real))*3/2, np.max(np.abs(eigs.real))*3/2)\n",
    "plt.ylim(-np.max(np.abs(eigs.imag))*3/2, np.max(np.abs(eigs.imag))*3/2)\n",
    "\n",
    "# plot eigs guidelines\n",
    "xx = np.linspace(-1, 1, 2)\n",
    "y1 = lambda x : eigs[0].imag[0]/eigs[0].real[0]*x\n",
    "y2 = lambda x : eigs[0].imag[1]/eigs[0].real[1]*x\n",
    "y3 = lambda x : eigs[0].imag[2]/eigs[0].real[2]*x\n",
    "y4 = lambda x : eigs[0].imag[3]/eigs[0].real[3]*x\n",
    "plt.plot(xx, y1(xx), ls='dashed', c='r', lw=1, alpha=0.3)\n",
    "plt.plot(xx, y2(xx), ls='dashed', c='r', lw=1, alpha=0.3)\n",
    "plt.plot(xx, y3(xx), ls='dashed', c='r', lw=1, alpha=0.3)\n",
    "plt.plot(xx, y4(xx), ls='dashed', c='r', lw=1, alpha=0.3)\n",
    "\n",
    "# main plot\n",
    "y_init, = plt.plot(eigs[0].real, eigs[0].imag, 'x', c='r')\n",
    "ytrace_init, = plt.plot(eigs[0].real, eigs[0].imag, '.', c='r', markersize=1)\n",
    "time_init = plt.text(0.05, 0.1, \"t = 0\", c='k', transform = ax.transAxes)\n",
    "rspan_init = plt.text(0.05, 0.04, \"$r$ = {0:.3f}\".format(rspan[0]), c='k', transform = ax.transAxes)\n",
    "plt.xlabel(\"Real\")\n",
    "plt.ylabel(\"Imag\")\n",
    "plt.title(\"Eigenvalues\")\n",
    "\n",
    "# inset\n",
    "ax_in = fig.add_axes([0.71, 0.7, 0.2, 0.2])\n",
    "ax_in.plot(scattpos[0, [0,2,3], 0], scattpos[0, [0,2,3], 1], '.', c='k')\n",
    "yin_init, = ax_in.plot(scattpos[0, 1, 0], scattpos[int(np.shape(eigs)[0]/2), 1, 1]+(scattpos[0, 1, 1]-scattpos[int(np.shape(eigs)[0]/2), 1, 1])*40, '.', c='k')\n",
    "ax_in.axhline(scattpos[int(np.shape(eigs)[0]/2), 1, 1], ls='dashed', c='b', lw=1, alpha=0.5)\n",
    "ax_in.set_xlim(-4,4)\n",
    "ax_in.set_ylim(-4,4)\n",
    "ax_in.set_xlabel(\"x\")\n",
    "ax_in.set_ylabel(\"y\")\n",
    "\n",
    "n_frames = np.shape(eigs)[0]\n",
    "def animate(i):\n",
    "    i_time = int(i/n_frames*100)\n",
    "    y_init.set_data(eigs[i].real, eigs[i].imag)\n",
    "    ytrace_init.set_data(eigs[0:i].real, eigs[0:i].imag)\n",
    "    yin_init.set_data(scattpos[i, 1, 0], scattpos[int(np.shape(eigs)[0]/2), 1, 1]+(scattpos[i, 1, 1]-scattpos[int(np.shape(eigs)[0]/2), 1, 1])*40)\n",
    "    time_init.set_text(\"t = {0:d}\".format(i_time))\n",
    "    rspan_init.set_text(\"$r$ = {0:.3f}\".format(rspan[i]))\n",
    "    return y_init, ytrace_init, yin_init, time_init, rspan_init\n",
    "\n",
    "_animation = animation.FuncAnimation(fig, animate, frames=n_frames, interval=50, blit=True)\n",
    "plt.tight_layout()\n",
    "plt.show()\n",
    "\n",
    "writer = animation.PillowWriter(fps=30)\n",
    "_animation.save(savegif, writer=writer)"
   ]
  },
  {
   "cell_type": "code",
   "execution_count": null,
   "metadata": {},
   "outputs": [],
   "source": []
  }
 ],
 "metadata": {
  "kernelspec": {
   "display_name": "Python 3.10.6 64-bit",
   "language": "python",
   "name": "python3"
  },
  "language_info": {
   "codemirror_mode": {
    "name": "ipython",
    "version": 3
   },
   "file_extension": ".py",
   "mimetype": "text/x-python",
   "name": "python",
   "nbconvert_exporter": "python",
   "pygments_lexer": "ipython3",
   "version": "3.10.6"
  },
  "orig_nbformat": 4,
  "vscode": {
   "interpreter": {
    "hash": "e7370f93d1d0cde622a1f8e1c04877d8463912d04d973331ad4851f04de6915a"
   }
  }
 },
 "nbformat": 4,
 "nbformat_minor": 2
}
